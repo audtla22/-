{
  "nbformat": 4,
  "nbformat_minor": 0,
  "metadata": {
    "colab": {
      "name": "hardwoooork.ipynb",
      "provenance": [],
      "authorship_tag": "ABX9TyPNNXfMq6ZYk4xeOGW03w+0",
      "include_colab_link": true
    },
    "kernelspec": {
      "name": "python3",
      "display_name": "Python 3"
    }
  },
  "cells": [
    {
      "cell_type": "markdown",
      "metadata": {
        "id": "view-in-github",
        "colab_type": "text"
      },
      "source": [
        "<a href=\"https://colab.research.google.com/github/audtla22/-/blob/master/hardwoooork.ipynb\" target=\"_parent\"><img src=\"https://colab.research.google.com/assets/colab-badge.svg\" alt=\"Open In Colab\"/></a>"
      ]
    },
    {
      "cell_type": "code",
      "metadata": {
        "id": "nRuDwzbfTDWF",
        "colab_type": "code",
        "colab": {}
      },
      "source": [
        "''' Newton method '''\n",
        "import sympy\n",
        "from sympy import *\n",
        "\n",
        "x=Symbol('x')\n",
        "y=Symbol('y')\n",
        "y=x**2+1\n",
        "y_prime=diff(y) \n",
        "x0=3 \n",
        "f=y.subs(x,x0) \n",
        "df=y_prime.subs(x,x0)\n",
        "y1=df*(x-x0)+f\n",
        "y1\n",
        "x1=solve(y1)\n",
        "y_prime2=y_prime.subs(x,x1[0])\n",
        "df2=y_prime.subs(x,x1[0])\n",
        "f2=y.subs(x,x1[0])\n",
        "y2=y_prime.subs({x:x1[0]})*(x-x1[0])+f2\n",
        "x2=solve(y2)\n",
        "df3=y_prime.subs(x,x2[0])\n",
        "f3=y.subs(x,x2[0])\n",
        "y3=df3*(x-x2[0])+f3\n",
        "y3\n",
        "x3=solve(y3)\n",
        "x3\n",
        "n=3\n",
        "m=n-1\n",
        "xm=solve(y2)\n",
        "dfn=y_prime.subs(x,xm[0])\n",
        "fn=y.subs(x,xm[0])\n",
        "yn=dfn*(x-xm[0])+fn\n",
        "xn=solve(yn)\n",
        "while n<5:\n",
        "  y=x**2+1\n",
        "  y_prime=diff(y) \n",
        "  x0=3 \n",
        "  f=y.subs(x,x0) \n",
        "  df=y_prime.subs(x,x0)\n",
        "  y1=df*(x-x0)+f\n",
        "  \n",
        "  x1=solve(y1)\n",
        "  y_prime2=y_prime.subs(x,x1[0])\n",
        "  df2=y_prime.subs(x,x1[0])\n",
        "  f2=y.subs(x,x1[0])\n",
        "  y2=y_prime.subs({x:x1[0]})*(x-x1[0])+f2\n",
        "  x2=solve(y2)\n",
        "  df3=y_prime.subs(x,x2[0])\n",
        "  f3=y.subs(x,x2[0])\n",
        "  y3=df3*(x-x2[0])+f3\n",
        "  \n",
        "  x3=solve(y3)\n",
        "  \n",
        "  n=3\n",
        "  m=n-1\n",
        "  xm=solve(y2)\n",
        "  dfn=y_prime.subs(x,xm[0])\n",
        "  fn=y.subs(x,xm[0])\n",
        "  yn=dfn*(x-xm[0])+fn\n",
        "  xn=solve(yn)\n",
        "  n=n+1\n",
        "  m=m+1\n",
        "print(fn)\n",
        "\n",
        "\n",
        "\n"
      ],
      "execution_count": 0,
      "outputs": []
    },
    {
      "cell_type": "code",
      "metadata": {
        "id": "ZDXM-X-aTEZT",
        "colab_type": "code",
        "colab": {}
      },
      "source": [
        ""
      ],
      "execution_count": 0,
      "outputs": []
    }
  ]
}