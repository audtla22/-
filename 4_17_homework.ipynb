{
  "nbformat": 4,
  "nbformat_minor": 0,
  "metadata": {
    "colab": {
      "name": "4_17_homework.ipynb",
      "provenance": [],
      "authorship_tag": "ABX9TyMSx8sMBxbB4QkFBfFc9/dj",
      "include_colab_link": true
    },
    "kernelspec": {
      "name": "python3",
      "display_name": "Python 3"
    }
  },
  "cells": [
    {
      "cell_type": "markdown",
      "metadata": {
        "id": "view-in-github",
        "colab_type": "text"
      },
      "source": [
        "<a href=\"https://colab.research.google.com/github/audtla22/-/blob/master/4_17_homework.ipynb\" target=\"_parent\"><img src=\"https://colab.research.google.com/assets/colab-badge.svg\" alt=\"Open In Colab\"/></a>"
      ]
    },
    {
      "cell_type": "markdown",
      "metadata": {
        "id": "yqq6oj9qdM61",
        "colab_type": "text"
      },
      "source": [
        "assignment #1 \n",
        "\n",
        "1. create a list a_list, with the following elements 1, hello, [1,2,3] and True(boolean) \n",
        "\n",
        "2. find the value stored at index 1 of a_list \n",
        "\n",
        "3. retrieve the elements stored at index 1,2, and 3 of a_list \n",
        "\n",
        "4. concatenate the following lists A = [1,'a'] and B= [2,1,'d']"
      ]
    },
    {
      "cell_type": "markdown",
      "metadata": {
        "id": "boA83j9_dXF3",
        "colab_type": "text"
      },
      "source": [
        "assignment#2 declare the sound track dictionary such as soundtrack_ dic={\"The Bodyguard\": \"1992\", \"Saturday Night Fever\":\"1977}\n",
        "\n",
        "1.write a code to display all of the keys\n",
        "2.write a code to display all of the values.\n"
      ]
    },
    {
      "cell_type": "markdown",
      "metadata": {
        "id": "gK0GJE89dccB",
        "colab_type": "text"
      },
      "source": [
        "assignment #3\n",
        " 1. convert the list ['rap','house','electronic music','rap'] to a set\n",
        " 2. consider the list A= [1,2,2,1] and set B= set([1,2,2,1]), does sum(A)= sum (B)\n",
        " 3. create a new set album_set3 that is the union \n",
        " 4. find out if album_set 1 is a subset of album_set3"
      ]
    },
    {
      "cell_type": "markdown",
      "metadata": {
        "id": "GTA988Bidi2z",
        "colab_type": "text"
      },
      "source": [
        "assignment#4-1\n",
        "\n",
        "when the artist name is \"michael\", print out the genre of the artist\n",
        "\n",
        "logical operators and/or\n",
        "album_year=2020\n",
        "\n",
        "assignment #4-2\n",
        "1. write a python program to convert temperatures to and from celsius, fahrenheit\n",
        "(kelvin temperature limitation is -273celcius) declare value at -50000(X), 50000\n",
        "2. write a python program to count how many even numbers and odd number\n",
        " are a list L=[1,2,3,5,31,28,91], write a program how many even number and odd number\n",
        "3. write a python program, extending the codes from question 2 in assignment #4-2\n",
        " how many prime number are in the list "
      ]
    },
    {
      "cell_type": "code",
      "metadata": {
        "id": "cncP9O5zkXmU",
        "colab_type": "code",
        "outputId": "4855c30f-4ebf-4140-9759-7f3d1900d53d",
        "colab": {
          "base_uri": "https://localhost:8080/",
          "height": 34
        }
      },
      "source": [
        "a_list=[1,\"hello\",[1,2,3],True]\n",
        "a_list[1]\n",
        "a_list[0:3]"
      ],
      "execution_count": 0,
      "outputs": [
        {
          "output_type": "execute_result",
          "data": {
            "text/plain": [
              "[1, 'hello', [1, 2, 3]]"
            ]
          },
          "metadata": {
            "tags": []
          },
          "execution_count": 7
        }
      ]
    },
    {
      "cell_type": "code",
      "metadata": {
        "id": "tIasuIqHlKC3",
        "colab_type": "code",
        "outputId": "932ee79d-bed3-433a-8dc6-d6fdaeaad525",
        "colab": {
          "base_uri": "https://localhost:8080/",
          "height": 34
        }
      },
      "source": [
        "A=[1,\"a\"]\n",
        "B=[2,1,\"d\"]\n",
        "A.append(B)\n",
        "A"
      ],
      "execution_count": 0,
      "outputs": [
        {
          "output_type": "execute_result",
          "data": {
            "text/plain": [
              "[1, 'a', [2, 1, 'd']]"
            ]
          },
          "metadata": {
            "tags": []
          },
          "execution_count": 26
        }
      ]
    },
    {
      "cell_type": "code",
      "metadata": {
        "id": "OoWeteaDl4Qa",
        "colab_type": "code",
        "outputId": "2b2f9b0f-275d-40fc-c62a-c5f91a39197e",
        "colab": {
          "base_uri": "https://localhost:8080/",
          "height": 34
        }
      },
      "source": [
        "A.clear()\n",
        "A=[1,\"a\"]\n",
        "A.extend(B)\n",
        "A"
      ],
      "execution_count": 0,
      "outputs": [
        {
          "output_type": "execute_result",
          "data": {
            "text/plain": [
              "[1, 'a', 2, 1, 'd']"
            ]
          },
          "metadata": {
            "tags": []
          },
          "execution_count": 28
        }
      ]
    },
    {
      "cell_type": "code",
      "metadata": {
        "id": "oNCbJ3vvmY8W",
        "colab_type": "code",
        "outputId": "a3c26495-22bc-4b34-ac4a-f23b62875535",
        "colab": {
          "base_uri": "https://localhost:8080/",
          "height": 34
        }
      },
      "source": [
        "soundtrack_dic={\"The Bodyguard\": \"1992\", \"Saturday Night Fever\":\"1977\"}\n",
        "soundtrack_dic.keys()"
      ],
      "execution_count": 0,
      "outputs": [
        {
          "output_type": "execute_result",
          "data": {
            "text/plain": [
              "dict_keys(['The Bodyguard', 'Saturday Night Fever'])"
            ]
          },
          "metadata": {
            "tags": []
          },
          "execution_count": 32
        }
      ]
    },
    {
      "cell_type": "code",
      "metadata": {
        "id": "wtlNk7wepXNa",
        "colab_type": "code",
        "outputId": "73ca2f51-c14a-4508-deda-235be6020089",
        "colab": {
          "base_uri": "https://localhost:8080/",
          "height": 34
        }
      },
      "source": [
        "soundtrack_dic.values()"
      ],
      "execution_count": 0,
      "outputs": [
        {
          "output_type": "execute_result",
          "data": {
            "text/plain": [
              "dict_values(['1992', '1977'])"
            ]
          },
          "metadata": {
            "tags": []
          },
          "execution_count": 33
        }
      ]
    },
    {
      "cell_type": "code",
      "metadata": {
        "id": "BU0KGmENpf1u",
        "colab_type": "code",
        "colab": {}
      },
      "source": [
        "B_list=['rap','house','electronic music','rap']\n",
        "set1=set(B_list)"
      ],
      "execution_count": 0,
      "outputs": []
    },
    {
      "cell_type": "code",
      "metadata": {
        "id": "TPh-_6pAqh8f",
        "colab_type": "code",
        "outputId": "75123ab6-4f80-4256-9cf8-0589a945b736",
        "colab": {
          "base_uri": "https://localhost:8080/",
          "height": 34
        }
      },
      "source": [
        "A=[1,2,2,1]\n",
        "B=set([1,2,2,1])\n",
        "sum(A)"
      ],
      "execution_count": 0,
      "outputs": [
        {
          "output_type": "execute_result",
          "data": {
            "text/plain": [
              "6"
            ]
          },
          "metadata": {
            "tags": []
          },
          "execution_count": 49
        }
      ]
    },
    {
      "cell_type": "code",
      "metadata": {
        "id": "rstoD-N_qpbC",
        "colab_type": "code",
        "outputId": "add3e505-19b6-4341-b544-b4782d8ce042",
        "colab": {
          "base_uri": "https://localhost:8080/",
          "height": 34
        }
      },
      "source": [
        "sum(B)"
      ],
      "execution_count": 0,
      "outputs": [
        {
          "output_type": "execute_result",
          "data": {
            "text/plain": [
              "3"
            ]
          },
          "metadata": {
            "tags": []
          },
          "execution_count": 50
        }
      ]
    },
    {
      "cell_type": "code",
      "metadata": {
        "id": "QA87ZkwErs3K",
        "colab_type": "code",
        "outputId": "0d6adc2a-8c3e-4fc4-b030-b63c84125f70",
        "colab": {
          "base_uri": "https://localhost:8080/",
          "height": 34
        }
      },
      "source": [
        "sum(A)+sum(B)"
      ],
      "execution_count": 0,
      "outputs": [
        {
          "output_type": "execute_result",
          "data": {
            "text/plain": [
              "9"
            ]
          },
          "metadata": {
            "tags": []
          },
          "execution_count": 52
        }
      ]
    },
    {
      "cell_type": "code",
      "metadata": {
        "id": "eHCN5Iu9rxnE",
        "colab_type": "code",
        "outputId": "b2f9722e-1e2f-4739-c7f7-955903ea2dc9",
        "colab": {
          "base_uri": "https://localhost:8080/",
          "height": 34
        }
      },
      "source": [
        "a1= {\"Thriller\", \"AC/DC\", \"Back in Black\"}\n",
        "a2= {\"AC/DC\",\"Back in Black\", \"The Dark side of the moon\"}\n",
        "album_set3=a1.union(a2)\n",
        "album_set3"
      ],
      "execution_count": 0,
      "outputs": [
        {
          "output_type": "execute_result",
          "data": {
            "text/plain": [
              "{'AC/DC', 'Back in Black', 'The Dark side of the moon', 'Thriller'}"
            ]
          },
          "metadata": {
            "tags": []
          },
          "execution_count": 55
        }
      ]
    },
    {
      "cell_type": "code",
      "metadata": {
        "id": "_Gsp5Y6atB6i",
        "colab_type": "code",
        "outputId": "d350be1a-a2bc-493c-d197-839516ab6de5",
        "colab": {
          "base_uri": "https://localhost:8080/",
          "height": 34
        }
      },
      "source": [
        "union= a1 | a2\n",
        "union"
      ],
      "execution_count": 0,
      "outputs": [
        {
          "output_type": "execute_result",
          "data": {
            "text/plain": [
              "{'AC/DC', 'Back in Black', 'The Dark side of the moon', 'Thriller'}"
            ]
          },
          "metadata": {
            "tags": []
          },
          "execution_count": 56
        }
      ]
    },
    {
      "cell_type": "code",
      "metadata": {
        "id": "SiMUL_spteqA",
        "colab_type": "code",
        "outputId": "99869c28-271a-4785-ee88-acdf8401255f",
        "colab": {
          "base_uri": "https://localhost:8080/",
          "height": 34
        }
      },
      "source": [
        "a1.issubset(union)"
      ],
      "execution_count": 0,
      "outputs": [
        {
          "output_type": "execute_result",
          "data": {
            "text/plain": [
              "True"
            ]
          },
          "metadata": {
            "tags": []
          },
          "execution_count": 57
        }
      ]
    },
    {
      "cell_type": "code",
      "metadata": {
        "id": "ktxkpiYttsqu",
        "colab_type": "code",
        "outputId": "a066342a-4446-453f-b1cb-99b3857a9911",
        "colab": {
          "base_uri": "https://localhost:8080/",
          "height": 34
        }
      },
      "source": [
        "a1.issubset(album_set3)"
      ],
      "execution_count": 0,
      "outputs": [
        {
          "output_type": "execute_result",
          "data": {
            "text/plain": [
              "True"
            ]
          },
          "metadata": {
            "tags": []
          },
          "execution_count": 59
        }
      ]
    },
    {
      "cell_type": "code",
      "metadata": {
        "id": "V9qnqoDOtwYl",
        "colab_type": "code",
        "outputId": "540339b3-d189-47e4-c10e-3d837e21aefb",
        "colab": {
          "base_uri": "https://localhost:8080/",
          "height": 34
        }
      },
      "source": [
        "album_set3.issuperset(a1)"
      ],
      "execution_count": 0,
      "outputs": [
        {
          "output_type": "execute_result",
          "data": {
            "text/plain": [
              "True"
            ]
          },
          "metadata": {
            "tags": []
          },
          "execution_count": 60
        }
      ]
    },
    {
      "cell_type": "code",
      "metadata": {
        "id": "WL7YWw_Qt65j",
        "colab_type": "code",
        "outputId": "8060a31d-df16-4559-b014-6388cbba377c",
        "colab": {
          "base_uri": "https://localhost:8080/",
          "height": 34
        }
      },
      "source": [
        "union.issuperset(a1)"
      ],
      "execution_count": 0,
      "outputs": [
        {
          "output_type": "execute_result",
          "data": {
            "text/plain": [
              "True"
            ]
          },
          "metadata": {
            "tags": []
          },
          "execution_count": 61
        }
      ]
    },
    {
      "cell_type": "code",
      "metadata": {
        "id": "f8o3E46ft8-R",
        "colab_type": "code",
        "colab": {
          "base_uri": "https://localhost:8080/",
          "height": 35
        },
        "outputId": "dc223b8b-a4e1-4ce5-855d-d7dacd2d0ca4"
      },
      "source": [
        "Dict= {\"artist\": \"michael\", \"genre\": \"R&B\", \"sales\":10000}\n",
        "if Dict[\"artist\"]==\"michael\":\n",
        "   print(Dict[\"genre\"])\n",
        "else:\n",
        "  print(\"none\")"
      ],
      "execution_count": 3,
      "outputs": [
        {
          "output_type": "stream",
          "text": [
            "R&B\n"
          ],
          "name": "stdout"
        }
      ]
    },
    {
      "cell_type": "code",
      "metadata": {
        "id": "FY53WuGvlLgb",
        "colab_type": "code",
        "colab": {}
      },
      "source": [
        "from sympy import *"
      ],
      "execution_count": 0,
      "outputs": []
    },
    {
      "cell_type": "code",
      "metadata": {
        "id": "qboyIHr8mv_j",
        "colab_type": "code",
        "colab": {
          "base_uri": "https://localhost:8080/",
          "height": 35
        },
        "outputId": "1a9b1fe7-7033-4341-cb52-d4d31bcfe805"
      },
      "source": [
        "Symbol(\"K\")\n",
        "Symbol(\"C\")\n",
        "Symbol(\"F\")\n",
        "K=int(input())"
      ],
      "execution_count": 21,
      "outputs": [
        {
          "output_type": "stream",
          "text": [
            "298\n"
          ],
          "name": "stdout"
        }
      ]
    },
    {
      "cell_type": "code",
      "metadata": {
        "id": "Dwu7VmH_qY6O",
        "colab_type": "code",
        "colab": {
          "base_uri": "https://localhost:8080/",
          "height": 244
        },
        "outputId": "855bb1ca-f630-4591-9f4e-5558a3d642e5"
      },
      "source": [
        "if K >= -273 :\n",
        "  C= K-273\n",
        "  print(C)\n",
        "  F=C*9/5+32\n",
        "  print(F)"
      ],
      "execution_count": 45,
      "outputs": [
        {
          "output_type": "stream",
          "text": [
            "25\n",
            "77.0\n"
          ],
          "name": "stdout"
        },
        {
          "output_type": "error",
          "ename": "IndexError",
          "evalue": "ignored",
          "traceback": [
            "\u001b[0;31m---------------------------------------------------------------------------\u001b[0m",
            "\u001b[0;31mIndexError\u001b[0m                                Traceback (most recent call last)",
            "\u001b[0;32m<ipython-input-45-79ae289d44af>\u001b[0m in \u001b[0;36m<module>\u001b[0;34m()\u001b[0m\n\u001b[1;32m      4\u001b[0m   \u001b[0mF\u001b[0m\u001b[0;34m=\u001b[0m\u001b[0mC\u001b[0m\u001b[0;34m*\u001b[0m\u001b[0;36m9\u001b[0m\u001b[0;34m/\u001b[0m\u001b[0;36m5\u001b[0m\u001b[0;34m+\u001b[0m\u001b[0;36m32\u001b[0m\u001b[0;34m\u001b[0m\u001b[0;34m\u001b[0m\u001b[0m\n\u001b[1;32m      5\u001b[0m   \u001b[0mprint\u001b[0m\u001b[0;34m(\u001b[0m\u001b[0mF\u001b[0m\u001b[0;34m)\u001b[0m\u001b[0;34m\u001b[0m\u001b[0;34m\u001b[0m\u001b[0m\n\u001b[0;32m----> 6\u001b[0;31m   \u001b[0mL\u001b[0m\u001b[0;34m[\u001b[0m\u001b[0mi\u001b[0m\u001b[0;34m]\u001b[0m\u001b[0;34m%\u001b[0m\u001b[0;36m2\u001b[0m\u001b[0;34m\u001b[0m\u001b[0;34m\u001b[0m\u001b[0m\n\u001b[0m",
            "\u001b[0;31mIndexError\u001b[0m: list index out of range"
          ]
        }
      ]
    },
    {
      "cell_type": "code",
      "metadata": {
        "id": "w8mjZh_ArAVU",
        "colab_type": "code",
        "colab": {
          "base_uri": "https://localhost:8080/",
          "height": 179
        },
        "outputId": "19b194c9-edb1-471c-fdce-1c68210ce100"
      },
      "source": [
        "L=[1,2,3,5,31,28,91]\n",
        "i=0\n",
        "x=0\n",
        "while i<7:\n",
        "    print(L[i]%2)\n",
        "    if (L[i]%2)==1:\n",
        "        x=x+1\n",
        "    i=i+1\n",
        "print(\"홀수가 나온 횟수는\",x,\"회 입니다.\")\n",
        "print(\"짝수가 나온 횟누는\",7-x,\"회 입니다.\")"
      ],
      "execution_count": 67,
      "outputs": [
        {
          "output_type": "stream",
          "text": [
            "1\n",
            "0\n",
            "1\n",
            "1\n",
            "1\n",
            "0\n",
            "1\n",
            "홀수가 나온 횟수는 5 회 입니다.\n",
            "짝수가 나온 횟누는 2 회 입니다.\n"
          ],
          "name": "stdout"
        }
      ]
    },
    {
      "cell_type": "code",
      "metadata": {
        "id": "P0XeDixr5wJI",
        "colab_type": "code",
        "colab": {}
      },
      "source": [
        "def getPrime(number):\n",
        "    if number == 2:\n",
        "        print (number)\n",
        "    for x in range(2,number):\n",
        "        if number % x == 0:\n",
        "            break\n",
        "        elif x == number - 1:\n",
        "            print (number)"
      ],
      "execution_count": 0,
      "outputs": []
    },
    {
      "cell_type": "code",
      "metadata": {
        "id": "K_fDvV9u_TSy",
        "colab_type": "code",
        "colab": {
          "base_uri": "https://localhost:8080/",
          "height": 215
        },
        "outputId": "6a073e80-bd24-4478-e9ca-b5d2c7366c47"
      },
      "source": [
        "L=[2,3,5,31,28,91]\n",
        "print(\"1은 소수가 아니여서 제외함.\")\n",
        "i=0\n",
        "while i<6:\n",
        "    print(getPrime(L[i]))\n",
        "    i=i+1"
      ],
      "execution_count": 104,
      "outputs": [
        {
          "output_type": "stream",
          "text": [
            "1은 소수가 아니여서 제외함.\n",
            "2\n",
            "None\n",
            "3\n",
            "None\n",
            "5\n",
            "None\n",
            "31\n",
            "None\n",
            "None\n",
            "None\n"
          ],
          "name": "stdout"
        }
      ]
    },
    {
      "cell_type": "code",
      "metadata": {
        "id": "MNElqiSl_Y0f",
        "colab_type": "code",
        "colab": {}
      },
      "source": [
        ""
      ],
      "execution_count": 0,
      "outputs": []
    }
  ]
}