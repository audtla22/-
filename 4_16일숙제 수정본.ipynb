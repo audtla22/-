{
  "nbformat": 4,
  "nbformat_minor": 0,
  "metadata": {
    "colab": {
      "name": "Untitled15.ipynb",
      "provenance": [],
      "authorship_tag": "ABX9TyMja0uf63xmIAbmlyLNcvK7",
      "include_colab_link": true
    },
    "kernelspec": {
      "name": "python3",
      "display_name": "Python 3"
    }
  },
  "cells": [
    {
      "cell_type": "markdown",
      "metadata": {
        "id": "view-in-github",
        "colab_type": "text"
      },
      "source": [
        "<a href=\"https://colab.research.google.com/github/audtla22/-/blob/master/4_16%EC%9D%BC%EC%88%99%EC%A0%9C%20%EC%88%98%EC%A0%95%EB%B3%B8.ipynb\" target=\"_parent\"><img src=\"https://colab.research.google.com/assets/colab-badge.svg\" alt=\"Open In Colab\"/></a>"
      ]
    },
    {
      "cell_type": "code",
      "metadata": {
        "id": "5c5D0XZ_krbQ",
        "colab_type": "code",
        "colab": {
          "base_uri": "https://localhost:8080/",
          "height": 53
        },
        "outputId": "f552c173-f8e4-42ca-8b86-e40cfef68597"
      },
      "source": [
        "#Question is how we can access to a particular letter in the variable Name\" \n",
        "Name = \"Michael Jackson\"\n",
        "print(Name[0])\n",
        "print(Name[2:5])"
      ],
      "execution_count": 36,
      "outputs": [
        {
          "output_type": "stream",
          "text": [
            "M\n",
            "cha\n"
          ],
          "name": "stdout"
        }
      ]
    },
    {
      "cell_type": "code",
      "metadata": {
        "id": "yxWE8nPmu8NR",
        "colab_type": "code",
        "colab": {}
      },
      "source": [
        "#This one is your Assignment #1 You play around how to use some built-in functions with strings..\n",
        "Name_lower_case = Name.lower()\n",
        "print(Name.count('m'))\n",
        "print(Name.count('a'))\n",
        "print(Name.lower())\n",
        "print(Name.split('a'))\n",
        "print(Name.upper())\n",
        "Name_lower_case\n",
        "len(Name)\n",
        "a=Name.replace('Michael', 'hosik')\n",
        "print(a)\n",
        "print(\"Micheal Jackson \\n is the best\") "
      ],
      "execution_count": 0,
      "outputs": []
    },
    {
      "cell_type": "code",
      "metadata": {
        "id": "8nO6E4KdvCsH",
        "colab_type": "code",
        "colab": {
          "base_uri": "https://localhost:8080/",
          "height": 143
        },
        "outputId": "8007767a-8c06-4554-b794-b902fec7dd87"
      },
      "source": [
        "#Your Assginemnt #2 - Apply what you have learnt from String section, do repeat the many operations you played in the section. \n",
        "Name.replace('Michael', 'kingkingshow')\n",
        "print(Name[0])\n",
        "type(Name)\n",
        "len(Name)\n",
        "Name.upper()\n",
        "b=Name.format('c','3j')\n",
        "print(b)\n",
        "print(\"Micheal Jackson \\\\ is the worst\")\n",
        "print(\"Michael jackson \\t is the most important\")\n",
        "print(\"Michael jackson \\n is the most important\")\n",
        "genre=('0. Pop', '1. Rock', '2. Soul', '3. Hard Rock', '4. Soft rock', '5. R&B', '6. Progressive rock', '7. Disco')\n",
        "genre.index('5. R&B')\n",
        "genre.count('5. R&B')\n",
        "genre[5]\n"
      ],
      "execution_count": 38,
      "outputs": [
        {
          "output_type": "stream",
          "text": [
            "M\n",
            "Michael Jackson\n",
            "Micheal Jackson \\ is the worst\n",
            "Michael jackson \t is the most important\n",
            "Michael jackson \n",
            " is the most important\n"
          ],
          "name": "stdout"
        },
        {
          "output_type": "execute_result",
          "data": {
            "text/plain": [
              "'5. R&B'"
            ]
          },
          "metadata": {
            "tags": []
          },
          "execution_count": 38
        }
      ]
    },
    {
      "cell_type": "code",
      "metadata": {
        "id": "LmIPjJh6vJMF",
        "colab_type": "code",
        "colab": {
          "base_uri": "https://localhost:8080/",
          "height": 35
        },
        "outputId": "e47b588a-86a6-48c8-e105-1e20f917e3ff"
      },
      "source": [
        "#Your Assignment #3 \n",
        "#Declare a Genre tuple as follows:\n",
        "\"0. Pop, 1. Rock, 2. Soul, 3. Hard Rock, 4. Soft rock, 5. R&B, 6. Progressive rock, 7. Disco\"\n",
        "#Play around to access each items to answer the quires such as \"What is the number of R&B\"\n",
        "# tuple_Genre.find(\"R&B\") --> of course I know that you haven't learnt how to make a function in Python, play your own trick to find \n",
        "# where such letter or strings will be displayed. \n",
        "\n",
        "# if you have a such question \"Is there any R&B in the tuple_Genre?\" what will you do? tuple_Genre[0],tuple_Genre[1], tuple_Genre[2], tuple_Genre[3], tuple_Genre[4], tuple_Genre[5], tuple_Genre[6], tuple_Genre[7]\n",
        "# end then the computer will search at each item to find if there is R&B, maybe you will trick using '&' symbol '&' maybe you can use this trick to find if the tupleGenre has such 'And' Symbol.. \n",
        "#\"[0][pop], [1][R&B], [2][Disco]\" <--Pseudo Code for a two-dimensional tuple...--> n-dimensional tuples (\"Tensor\" = \"n-dimensional vector\", \"n*m matrix\", Tensorflow - name of Google AI package) "
      ],
      "execution_count": 39,
      "outputs": [
        {
          "output_type": "execute_result",
          "data": {
            "text/plain": [
              "'0. Pop, 1. Rock, 2. Soul, 3. Hard Rock, 4. Soft rock, 5. R&B, 6. Progressive rock, 7. Disco'"
            ]
          },
          "metadata": {
            "tags": []
          },
          "execution_count": 39
        }
      ]
    },
    {
      "cell_type": "code",
      "metadata": {
        "id": "ViqpsMBTvNLb",
        "colab_type": "code",
        "colab": {
          "base_uri": "https://localhost:8080/",
          "height": 53
        },
        "outputId": "bcd84297-0c1b-4ddf-9c39-9677679d40f3"
      },
      "source": [
        "genre=(('0. Pop'), ('1. Rock'), ('2. Soul'), ('3. Hard Rock'), ('4. Soft rock'), ('5. R&B'), ('6. Progressive rock'), ('7. Disco'))\n",
        "genre.index('5. R&B')\n",
        "genre.count('5. R&B')\n",
        "genre[5][1]\n",
        "x=0\n",
        "while x<7:\n",
        "    x+=1\n",
        "    if genre[x]=='5. R&B':\n",
        "        print(\"우리가 찾던 R%B의 숫자는\",x,\"입니다\")\n",
        "while x<7:\n",
        "    x+=1\n",
        "    if genre.count('5. R&B')==1:\n",
        "        print(\"R&B가 존재합니다\")\n",
        "if genre.count('5. R&B')==1:\n",
        "    print(\"R&B가 존재합니다\")"
      ],
      "execution_count": 41,
      "outputs": [
        {
          "output_type": "stream",
          "text": [
            "우리가 찾던 R%B의 숫자는 5 입니다\n",
            "R&B가 존재합니다\n"
          ],
          "name": "stdout"
        }
      ]
    },
    {
      "cell_type": "code",
      "metadata": {
        "id": "XNbrRHmewH5x",
        "colab_type": "code",
        "colab": {
          "base_uri": "https://localhost:8080/",
          "height": 35
        },
        "outputId": "0ad8b995-8f6e-432b-b917-c37eae01cfc3"
      },
      "source": [
        "genre[5][3]"
      ],
      "execution_count": 30,
      "outputs": [
        {
          "output_type": "execute_result",
          "data": {
            "text/plain": [
              "'R'"
            ]
          },
          "metadata": {
            "tags": []
          },
          "execution_count": 30
        }
      ]
    }
  ]
}