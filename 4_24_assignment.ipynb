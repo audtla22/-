{
  "nbformat": 4,
  "nbformat_minor": 0,
  "metadata": {
    "colab": {
      "name": "4_24 assignment.ipynb",
      "provenance": [],
      "authorship_tag": "ABX9TyOwMz2CFhvWwLy1gIO91q23",
      "include_colab_link": true
    },
    "kernelspec": {
      "name": "python3",
      "display_name": "Python 3"
    }
  },
  "cells": [
    {
      "cell_type": "markdown",
      "metadata": {
        "id": "view-in-github",
        "colab_type": "text"
      },
      "source": [
        "<a href=\"https://colab.research.google.com/github/audtla22/-/blob/master/4_24_assignment.ipynb\" target=\"_parent\"><img src=\"https://colab.research.google.com/assets/colab-badge.svg\" alt=\"Open In Colab\"/></a>"
      ]
    },
    {
      "cell_type": "code",
      "metadata": {
        "id": "pNLDDKiIii--",
        "colab_type": "code",
        "colab": {}
      },
      "source": [
        "import matplotlib.pyplot as plt\n",
        "%matplotlib inline\n",
        "\n",
        "class Rectangle():\n",
        "  \n",
        "  \n",
        "  #data(attributes)\n",
        "  #functions(methods): only these functions (methods) can touch the attributes in the rectangle class..--> encapsulation\n",
        "  def __init__(self,width, height, color):\n",
        "    self.width= width\n",
        "    self.height=height\n",
        "    self.color=color\n",
        "\n",
        "  def add_width(self,a):\n",
        "    self.width=self.width+a\n",
        "    return(self.width)\n",
        "  def add_height(self,b):\n",
        "    self.height=self.height+b\n",
        "    return(self.height)\n",
        "  def add_color(self,c):\n",
        "    self.color=c\n",
        "    return(self.color)\n",
        "\n",
        "  def drawRectangle(self):\n",
        "    plt.gca().add_patch(plt.Rectangle((0,0),self.width,self.height,fc=self.color))\n",
        "    plt.axis('scaled')\n",
        "    plt.show()\n",
        "  def Rectangle_area(self):\n",
        "    self.Area=self.width*self.height\n",
        "    return(self.Area)"
      ],
      "execution_count": 0,
      "outputs": []
    },
    {
      "cell_type": "code",
      "metadata": {
        "id": "D0WiENpE45E1",
        "colab_type": "code",
        "colab": {}
      },
      "source": [
        "import math\n",
        "class Circle(object):\n",
        "\n",
        "  def __init__(self, radius, color):\n",
        "    self.radius = radius\n",
        "    self.color = color \n",
        "\n",
        "  \n",
        "  def add_radius(self, r):\n",
        "    self.radius = self.radius + r \n",
        "    return(self.radius)\n",
        "  \n",
        "  def drawCircle(self): \n",
        "    plt.gca().add_patch(plt.Circle((0,0), radius = self.radius, fc = self.color))\n",
        "    plt.axis('scaled') \n",
        "    plt.show() \n",
        "  def add_color(self,c):\n",
        "    self.color=c\n",
        "    return(self.color)\n",
        "  def circle_area(self):\n",
        "    self.area= self.radius**2*math.pi\n",
        "    return(self.area)"
      ],
      "execution_count": 0,
      "outputs": []
    },
    {
      "cell_type": "code",
      "metadata": {
        "id": "U3_cJsYmjzK0",
        "colab_type": "code",
        "colab": {
          "base_uri": "https://localhost:8080/",
          "height": 265
        },
        "outputId": "0023a34c-052a-4710-d923-6671eced2092"
      },
      "source": [
        "SkinnyBlueRectangle=Rectangle(2,10,'blue')\n",
        "SkinnyBlueRectangle.drawRectangle()"
      ],
      "execution_count": 134,
      "outputs": [
        {
          "output_type": "display_data",
          "data": {
            "image/png": "[encoded data removed]",
            "text/plain": [
              "<Figure size 432x288 with 1 Axes>"
            ]
          },
          "metadata": {
            "tags": [],
            "needs_background": "light"
          }
        }
      ]
    },
    {
      "cell_type": "code",
      "metadata": {
        "id": "gGiGhNHWkBar",
        "colab_type": "code",
        "colab": {
          "base_uri": "https://localhost:8080/",
          "height": 34
        },
        "outputId": "b8e3e3d8-6eba-4a33-be6f-b7560f5faa55"
      },
      "source": [
        "SkinnyBlueRectangle.add_width(12)"
      ],
      "execution_count": 135,
      "outputs": [
        {
          "output_type": "execute_result",
          "data": {
            "text/plain": [
              "14"
            ]
          },
          "metadata": {
            "tags": []
          },
          "execution_count": 135
        }
      ]
    },
    {
      "cell_type": "code",
      "metadata": {
        "id": "wTchdkZckOhQ",
        "colab_type": "code",
        "colab": {
          "base_uri": "https://localhost:8080/",
          "height": 34
        },
        "outputId": "96a333d2-508e-4efd-a876-b60311c18ab0"
      },
      "source": [
        "\n",
        "SkinnyBlueRectangle.add_height(4)"
      ],
      "execution_count": 136,
      "outputs": [
        {
          "output_type": "execute_result",
          "data": {
            "text/plain": [
              "14"
            ]
          },
          "metadata": {
            "tags": []
          },
          "execution_count": 136
        }
      ]
    },
    {
      "cell_type": "code",
      "metadata": {
        "id": "S34N0AxKkTPZ",
        "colab_type": "code",
        "colab": {
          "base_uri": "https://localhost:8080/",
          "height": 34
        },
        "outputId": "1b13ed0d-cf63-41de-ac4c-6ce5275b8e47"
      },
      "source": [
        "SkinnyBlueRectangle.add_color('purple')"
      ],
      "execution_count": 137,
      "outputs": [
        {
          "output_type": "execute_result",
          "data": {
            "text/plain": [
              "'purple'"
            ]
          },
          "metadata": {
            "tags": []
          },
          "execution_count": 137
        }
      ]
    },
    {
      "cell_type": "code",
      "metadata": {
        "id": "YIhA3CR6kV3Z",
        "colab_type": "code",
        "colab": {
          "base_uri": "https://localhost:8080/",
          "height": 265
        },
        "outputId": "d6820755-4e0f-4877-d3e8-2b2d539293ed"
      },
      "source": [
        "SkinnyBlueRectangle.drawRectangle()"
      ],
      "execution_count": 138,
      "outputs": [
        {
          "output_type": "display_data",
          "data": {
            "image/png": "[encoded data removed]",
            "text/plain": [
              "<Figure size 432x288 with 1 Axes>"
            ]
          },
          "metadata": {
            "tags": [],
            "needs_background": "light"
          }
        }
      ]
    },
    {
      "cell_type": "code",
      "metadata": {
        "id": "87PLou4cka95",
        "colab_type": "code",
        "colab": {
          "base_uri": "https://localhost:8080/",
          "height": 54
        },
        "outputId": "d6b85e52-e3a8-4cba-dbee-8968daf928f5"
      },
      "source": [
        "from google.colab import drive\n",
        "drive.mount('/content/gdrive')"
      ],
      "execution_count": 139,
      "outputs": [
        {
          "output_type": "stream",
          "text": [
            "Drive already mounted at /content/gdrive; to attempt to forcibly remount, call drive.mount(\"/content/gdrive\", force_remount=True).\n"
          ],
          "name": "stdout"
        }
      ]
    },
    {
      "cell_type": "code",
      "metadata": {
        "id": "saZ1FHGHsPki",
        "colab_type": "code",
        "colab": {}
      },
      "source": [
        "example1 =\"/content/gdrive/My Drive/assignment_circle.txt\"\n",
        "file1 = open(example1, \"r\")"
      ],
      "execution_count": 0,
      "outputs": []
    },
    {
      "cell_type": "code",
      "metadata": {
        "id": "KaX003ansaLU",
        "colab_type": "code",
        "colab": {
          "base_uri": "https://localhost:8080/",
          "height": 87
        },
        "outputId": "7be7229f-7e6c-41c8-9cdf-31a4c562b523"
      },
      "source": [
        "\n",
        "FileContent = file1.read() #Now I can read your file1.\n",
        "print(FileContent)"
      ],
      "execution_count": 141,
      "outputs": [
        {
          "output_type": "stream",
          "text": [
            "3\n",
            "5\n",
            "'blue'\n",
            "'red'\n"
          ],
          "name": "stdout"
        }
      ]
    },
    {
      "cell_type": "code",
      "metadata": {
        "id": "ADpMURaSyjs2",
        "colab_type": "code",
        "colab": {
          "base_uri": "https://localhost:8080/",
          "height": 140
        },
        "outputId": "41ed44b9-48f1-4b9f-cc8e-b2087def3e02"
      },
      "source": [
        "with open(example1, \"r\") as file1:\n",
        "  feature1 = file1.read(1) \n",
        "  feature2 = file1.read(2)\n",
        "  feature3 = file1.read(6)\n",
        "  feature4 = file1.read(12)\n",
        "  print(feature1)\n",
        "  print(feature2)\n",
        "  print(feature3)\n",
        "  print(feature4)"
      ],
      "execution_count": 160,
      "outputs": [
        {
          "output_type": "stream",
          "text": [
            "3\n",
            "\n",
            "5\n",
            "\n",
            "blue\n",
            "\n",
            "red\n"
          ],
          "name": "stdout"
        }
      ]
    },
    {
      "cell_type": "code",
      "metadata": {
        "id": "A_ZdnFmZzoJ_",
        "colab_type": "code",
        "colab": {}
      },
      "source": [
        "PurpleCircle=Circle(5,'purple')"
      ],
      "execution_count": 0,
      "outputs": []
    },
    {
      "cell_type": "code",
      "metadata": {
        "id": "jaCUGuO12_Fh",
        "colab_type": "code",
        "colab": {
          "base_uri": "https://localhost:8080/",
          "height": 34
        },
        "outputId": "38df4ac9-d56a-47e7-8fba-9f8dc38d051f"
      },
      "source": [
        "PurpleCircle.add_radius(int(feature1))"
      ],
      "execution_count": 162,
      "outputs": [
        {
          "output_type": "execute_result",
          "data": {
            "text/plain": [
              "8"
            ]
          },
          "metadata": {
            "tags": []
          },
          "execution_count": 162
        }
      ]
    },
    {
      "cell_type": "code",
      "metadata": {
        "id": "wav0NvcI3q8u",
        "colab_type": "code",
        "colab": {
          "base_uri": "https://localhost:8080/",
          "height": 265
        },
        "outputId": "722c9ebe-39c8-4d27-e581-b31cfdcf1bfc"
      },
      "source": [
        "PurpleCircle.drawCircle()"
      ],
      "execution_count": 163,
      "outputs": [
        {
          "output_type": "display_data",
          "data": {
            "image/png": "[encoded data removed]",
            "text/plain": [
              "<Figure size 432x288 with 1 Axes>"
            ]
          },
          "metadata": {
            "tags": [],
            "needs_background": "light"
          }
        }
      ]
    },
    {
      "cell_type": "code",
      "metadata": {
        "id": "IORrsLaX4IuT",
        "colab_type": "code",
        "colab": {
          "base_uri": "https://localhost:8080/",
          "height": 34
        },
        "outputId": "525de6c5-1a7f-499b-d06e-6a247cfa48a2"
      },
      "source": [
        "PurpleCircle.add_color(str(feature4))"
      ],
      "execution_count": 169,
      "outputs": [
        {
          "output_type": "execute_result",
          "data": {
            "text/plain": [
              "'red'"
            ]
          },
          "metadata": {
            "tags": []
          },
          "execution_count": 169
        }
      ]
    },
    {
      "cell_type": "code",
      "metadata": {
        "id": "UYc8Xnfs5UYG",
        "colab_type": "code",
        "colab": {
          "base_uri": "https://localhost:8080/",
          "height": 265
        },
        "outputId": "00a85c73-7af5-4246-8843-d9a0d439fabe"
      },
      "source": [
        "PurpleCircle.drawCircle()"
      ],
      "execution_count": 170,
      "outputs": [
        {
          "output_type": "display_data",
          "data": {
            "image/png": "[encoded data removed]",
            "text/plain": [
              "<Figure size 432x288 with 1 Axes>"
            ]
          },
          "metadata": {
            "tags": [],
            "needs_background": "light"
          }
        }
      ]
    },
    {
      "cell_type": "code",
      "metadata": {
        "id": "bK8xl6vJ6giX",
        "colab_type": "code",
        "colab": {
          "base_uri": "https://localhost:8080/",
          "height": 34
        },
        "outputId": "3046b0d7-3911-4950-d163-b73b6b4347a6"
      },
      "source": [
        "PurpleCircle.add_radius(int(feature2))"
      ],
      "execution_count": 171,
      "outputs": [
        {
          "output_type": "execute_result",
          "data": {
            "text/plain": [
              "13"
            ]
          },
          "metadata": {
            "tags": []
          },
          "execution_count": 171
        }
      ]
    },
    {
      "cell_type": "code",
      "metadata": {
        "id": "0hfFDIGI6jSn",
        "colab_type": "code",
        "colab": {
          "base_uri": "https://localhost:8080/",
          "height": 265
        },
        "outputId": "607aa6f7-d6b8-498d-f464-8af464369644"
      },
      "source": [
        "PurpleCircle.drawCircle()"
      ],
      "execution_count": 172,
      "outputs": [
        {
          "output_type": "display_data",
          "data": {
            "image/png": "[encoded data removed]",
            "text/plain": [
              "<Figure size 432x288 with 1 Axes>"
            ]
          },
          "metadata": {
            "tags": [],
            "needs_background": "light"
          }
        }
      ]
    },
    {
      "cell_type": "code",
      "metadata": {
        "id": "_z6bXURd7Mj5",
        "colab_type": "code",
        "colab": {
          "base_uri": "https://localhost:8080/",
          "height": 70
        },
        "outputId": "fe152d65-e44f-42e9-9fa7-27be2966b76c"
      },
      "source": [
        "example2 =\"/content/gdrive/My Drive/assignment_rectangle.txt\"\n",
        "file2 = open(example2, \"r\")\n",
        "FileContent1 = file2.read()\n",
        "print(FileContent1)"
      ],
      "execution_count": 173,
      "outputs": [
        {
          "output_type": "stream",
          "text": [
            "4\n",
            "5\n",
            "red\n"
          ],
          "name": "stdout"
        }
      ]
    },
    {
      "cell_type": "code",
      "metadata": {
        "id": "cosEV15o7dQZ",
        "colab_type": "code",
        "colab": {
          "base_uri": "https://localhost:8080/",
          "height": 105
        },
        "outputId": "22bf2115-78be-4466-bcff-7291ed8bb7ea"
      },
      "source": [
        "with open(example2, \"r\") as file2:\n",
        "  featurea = file2.read(1) \n",
        "  featureb = file2.read(3)\n",
        "  featurec = file2.read(5)\n",
        "  print(featurea)\n",
        "  print(featureb)\n",
        "  print(featurec)"
      ],
      "execution_count": 198,
      "outputs": [
        {
          "output_type": "stream",
          "text": [
            "4\n",
            "\n",
            "5\n",
            "\n",
            "red\n"
          ],
          "name": "stdout"
        }
      ]
    },
    {
      "cell_type": "code",
      "metadata": {
        "id": "RE40p3Wl7z-L",
        "colab_type": "code",
        "colab": {}
      },
      "source": [
        "PurpleRectangle=Rectangle(2,3,'purple')"
      ],
      "execution_count": 0,
      "outputs": []
    },
    {
      "cell_type": "code",
      "metadata": {
        "id": "LxeU_Bef8XE5",
        "colab_type": "code",
        "colab": {
          "base_uri": "https://localhost:8080/",
          "height": 34
        },
        "outputId": "eff1d3b8-69ec-47c1-b5ae-1d71849c40bc"
      },
      "source": [
        "PurpleRectangle.add_width(int(featurea))\n",
        "PurpleRectangle.add_height(int(featureb))"
      ],
      "execution_count": 177,
      "outputs": [
        {
          "output_type": "execute_result",
          "data": {
            "text/plain": [
              "8"
            ]
          },
          "metadata": {
            "tags": []
          },
          "execution_count": 177
        }
      ]
    },
    {
      "cell_type": "code",
      "metadata": {
        "id": "JgPcubzO8jSq",
        "colab_type": "code",
        "colab": {
          "base_uri": "https://localhost:8080/",
          "height": 265
        },
        "outputId": "bf001dc6-a6b5-47eb-f463-cac123c2391b"
      },
      "source": [
        "PurpleRectangle.drawRectangle()"
      ],
      "execution_count": 178,
      "outputs": [
        {
          "output_type": "display_data",
          "data": {
            "image/png": "[encoded data removed]",
            "text/plain": [
              "<Figure size 432x288 with 1 Axes>"
            ]
          },
          "metadata": {
            "tags": [],
            "needs_background": "light"
          }
        }
      ]
    },
    {
      "cell_type": "code",
      "metadata": {
        "id": "UqJYIr0E9aL-",
        "colab_type": "code",
        "colab": {
          "base_uri": "https://localhost:8080/",
          "height": 34
        },
        "outputId": "a53dc03f-86cc-48ca-cb0f-f9772e48ab93"
      },
      "source": [
        "PurpleRectangle.add_color(featurec)"
      ],
      "execution_count": 199,
      "outputs": [
        {
          "output_type": "execute_result",
          "data": {
            "text/plain": [
              "'red'"
            ]
          },
          "metadata": {
            "tags": []
          },
          "execution_count": 199
        }
      ]
    },
    {
      "cell_type": "code",
      "metadata": {
        "id": "3VPSkP8z93Mb",
        "colab_type": "code",
        "colab": {
          "base_uri": "https://localhost:8080/",
          "height": 265
        },
        "outputId": "1322f2f5-3ec0-474a-af82-2d1350c33e13"
      },
      "source": [
        "PurpleRectangle.drawRectangle()"
      ],
      "execution_count": 200,
      "outputs": [
        {
          "output_type": "display_data",
          "data": {
            "image/png": "[encoded data removed]",
            "text/plain": [
              "<Figure size 432x288 with 1 Axes>"
            ]
          },
          "metadata": {
            "tags": [],
            "needs_background": "light"
          }
        }
      ]
    },
    {
      "cell_type": "code",
      "metadata": {
        "id": "2woG1BTY9Fq3",
        "colab_type": "code",
        "colab": {}
      },
      "source": [
        "import math\n",
        "class Circle(object):\n",
        "\n",
        "  def __init__(self, radius, color):\n",
        "    self.radius = radius\n",
        "    self.color = color \n",
        "\n",
        "  \n",
        "  def add_radius(self, r):\n",
        "    self.radius = self.radius + r \n",
        "    return(self.radius)\n",
        "  \n",
        "  def drawCircle(self): \n",
        "    plt.gca().add_patch(plt.Circle((0,0), radius = self.radius, fc = self.color))\n",
        "    plt.axis('scaled') \n",
        "    plt.show() \n",
        "  def add_color(self,c):\n",
        "    self.color=c\n",
        "    return(self.color)\n",
        "  def circle_area(self):\n",
        "    self.area= self.radius**2*math.pi\n",
        "    return(self.area)"
      ],
      "execution_count": 0,
      "outputs": []
    },
    {
      "cell_type": "code",
      "metadata": {
        "id": "XN0Rzlpr-V_c",
        "colab_type": "code",
        "colab": {}
      },
      "source": [
        "SecretCircle=Circle(6,'purple')"
      ],
      "execution_count": 0,
      "outputs": []
    },
    {
      "cell_type": "code",
      "metadata": {
        "id": "Yc4kud-x-hFJ",
        "colab_type": "code",
        "colab": {
          "base_uri": "https://localhost:8080/",
          "height": 34
        },
        "outputId": "bb101ec5-efd6-4dd2-9570-9a70c0d248e8"
      },
      "source": [
        "SecretCircle.radius"
      ],
      "execution_count": 68,
      "outputs": [
        {
          "output_type": "execute_result",
          "data": {
            "text/plain": [
              "6"
            ]
          },
          "metadata": {
            "tags": []
          },
          "execution_count": 68
        }
      ]
    },
    {
      "cell_type": "code",
      "metadata": {
        "id": "049JeAqp-lv1",
        "colab_type": "code",
        "colab": {
          "base_uri": "https://localhost:8080/",
          "height": 34
        },
        "outputId": "8430c1bf-d63e-4108-efe0-055fb6bdf096"
      },
      "source": [
        "SecretCircle.circle_area()"
      ],
      "execution_count": 69,
      "outputs": [
        {
          "output_type": "execute_result",
          "data": {
            "text/plain": [
              "113.09733552923255"
            ]
          },
          "metadata": {
            "tags": []
          },
          "execution_count": 69
        }
      ]
    },
    {
      "cell_type": "code",
      "metadata": {
        "id": "2iZiUzcN-zsv",
        "colab_type": "code",
        "colab": {}
      },
      "source": [
        "SecretRectangle=Rectangle(4,5,'purple')"
      ],
      "execution_count": 0,
      "outputs": []
    },
    {
      "cell_type": "code",
      "metadata": {
        "id": "CF0lk1j_Av2P",
        "colab_type": "code",
        "colab": {
          "base_uri": "https://localhost:8080/",
          "height": 34
        },
        "outputId": "9ea45efd-74f8-4837-dc13-cfefe2bbd603"
      },
      "source": [
        "SecretRectangle.Rectangle_area()"
      ],
      "execution_count": 79,
      "outputs": [
        {
          "output_type": "execute_result",
          "data": {
            "text/plain": [
              "20"
            ]
          },
          "metadata": {
            "tags": []
          },
          "execution_count": 79
        }
      ]
    },
    {
      "cell_type": "code",
      "metadata": {
        "id": "5NCLPDlHA0y_",
        "colab_type": "code",
        "colab": {}
      },
      "source": [
        ""
      ],
      "execution_count": 0,
      "outputs": []
    }
  ]
}