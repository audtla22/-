{
  "nbformat": 4,
  "nbformat_minor": 0,
  "metadata": {
    "colab": {
      "name": "HwangHoSik2020088995 .ipynb의 사본",
      "provenance": [],
      "collapsed_sections": [],
      "authorship_tag": "ABX9TyNt7D2p9uZMWnzOxHQpE/Ue",
      "include_colab_link": true
    },
    "kernelspec": {
      "name": "python3",
      "display_name": "Python 3"
    }
  },
  "cells": [
    {
      "cell_type": "markdown",
      "metadata": {
        "id": "view-in-github",
        "colab_type": "text"
      },
      "source": [
        "<a href=\"https://colab.research.google.com/github/audtla22/-/blob/master/HwangHoSik2020088995_ipynb%EC%9D%98_%EC%82%AC%EB%B3%B8.ipynb\" target=\"_parent\"><img src=\"https://colab.research.google.com/assets/colab-badge.svg\" alt=\"Open In Colab\"/></a>"
      ]
    },
    {
      "cell_type": "code",
      "metadata": {
        "id": "bi6ol19QaDK_",
        "colab_type": "code",
        "outputId": "ddfcbb59-77ab-49d0-e42d-80956cf5a224",
        "colab": {
          "base_uri": "https://localhost:8080/",
          "height": 52
        }
      },
      "source": [
        "# 1Your Python code should appear here, followed by the plot\n",
        "def q(x):\n",
        "  return 2*x**2+1\n",
        "from sympy import *\n",
        "x=Symbol('x')\n",
        "qx=2*x**2+1\n",
        "print(q(x))\n",
        "print(qx)"
      ],
      "execution_count": 12,
      "outputs": [
        {
          "output_type": "stream",
          "text": [
            "2*x**2 + 1\n",
            "2*x**2 + 1\n"
          ],
          "name": "stdout"
        }
      ]
    },
    {
      "cell_type": "code",
      "metadata": {
        "id": "wFDyRBjSiSaw",
        "colab_type": "code",
        "outputId": "4bca0e7c-60ca-4d3d-cd3c-1905ec13f2e5",
        "colab": {
          "base_uri": "https://localhost:8080/",
          "height": 193
        }
      },
      "source": [
        "for x in range(0,10):\n",
        "  print(q(x))"
      ],
      "execution_count": 13,
      "outputs": [
        {
          "output_type": "stream",
          "text": [
            "1\n",
            "3\n",
            "9\n",
            "19\n",
            "33\n",
            "51\n",
            "73\n",
            "99\n",
            "129\n",
            "163\n"
          ],
          "name": "stdout"
        }
      ]
    },
    {
      "cell_type": "code",
      "metadata": {
        "id": "cWIDdeX0j_RG",
        "colab_type": "code",
        "outputId": "c8969ba8-c53c-42bc-8069-3ee1c401a492",
        "colab": {
          "base_uri": "https://localhost:8080/",
          "height": 122
        }
      },
      "source": [
        "#2\n",
        "y1=int(input())\n",
        "z1=int(input())\n",
        "velocity1=(q(y1)-q(z1))/(y1-z1)\n",
        "print(velocity1)\n",
        "y2=int(input())\n",
        "z2=int(input())\n",
        "velocity2=(q(y2)-q(z2))/(y2-z2)\n",
        "print(velocity2)"
      ],
      "execution_count": 15,
      "outputs": [
        {
          "output_type": "stream",
          "text": [
            "2\n",
            "1\n",
            "6.0\n",
            "7\n",
            "5\n",
            "24.0\n"
          ],
          "name": "stdout"
        }
      ]
    },
    {
      "cell_type": "code",
      "metadata": {
        "id": "myWw9ZEFkh88",
        "colab_type": "code",
        "colab": {}
      },
      "source": [
        "#running the following code \n",
        "\n",
        "%matplotlib inline\n",
        "\n",
        "# Here's the function\n",
        "def f(x):\n",
        "    return 2*x**2+1 "
      ],
      "execution_count": 0,
      "outputs": []
    },
    {
      "cell_type": "code",
      "metadata": {
        "id": "okrkEsn9wD3N",
        "colab_type": "code",
        "outputId": "dcebf2d2-9964-4078-caeb-2298bb78e2ee",
        "colab": {
          "base_uri": "https://localhost:8080/",
          "height": 34
        }
      },
      "source": [
        "#3\n",
        "x=Symbol('x')\n",
        "def my_diff(f,x):\n",
        "  h=1e-4\n",
        "  return (f(x+h)-f(x-h))/(2*h)\n",
        "dif=my_diff(q,x)\n",
        "dif"
      ],
      "execution_count": 17,
      "outputs": [
        {
          "output_type": "execute_result",
          "data": {
            "text/plain": [
              "-10000.0*(x - 0.0001)**2 + 10000.0*(x + 0.0001)**2"
            ]
          },
          "metadata": {
            "tags": []
          },
          "execution_count": 17
        }
      ]
    },
    {
      "cell_type": "code",
      "metadata": {
        "id": "3BAjqWX76vOO",
        "colab_type": "code",
        "outputId": "af4bdb8a-26e1-420c-a638-4b201290f6c8",
        "colab": {
          "base_uri": "https://localhost:8080/",
          "height": 210
        }
      },
      "source": [
        "h=0.1\n",
        "if h!=1:\n",
        "  for i in range(10):\n",
        "    print((f(x+h)-f(x))/h)\n",
        "    h=h*h\n",
        "qx_diff=qx.diff()\n",
        "qx_diff"
      ],
      "execution_count": 18,
      "outputs": [
        {
          "output_type": "stream",
          "text": [
            "-20.0*x**2 + 20.0*(x + 0.1)**2\n",
            "-200.0*x**2 + 200.0*(x + 0.01)**2\n",
            "-20000.0*x**2 + 20000.0*(x + 0.0001)**2\n",
            "-200000000.0*x**2 + 200000000.0*(x + 1.0e-8)**2\n",
            "-2.0e+16*x**2 + 2.0e+16*(x + 1.0e-16)**2\n",
            "-1.99999999999999e+32*x**2 + 1.99999999999999e+32*(x + 1.0e-32)**2\n",
            "-1.99999999999999e+64*x**2 + 1.99999999999999e+64*(x + 1.00000000000001e-64)**2\n",
            "-1.99999999999997e+128*x**2 + 1.99999999999997e+128*(x + 1.00000000000001e-128)**2\n",
            "-1.99999999999995e+256*x**2 + 1.99999999999995e+256*(x + 1.00000000000003e-256)**2\n",
            "nan\n"
          ],
          "name": "stdout"
        },
        {
          "output_type": "execute_result",
          "data": {
            "text/plain": [
              "4*x"
            ]
          },
          "metadata": {
            "tags": []
          },
          "execution_count": 18
        }
      ]
    },
    {
      "cell_type": "code",
      "metadata": {
        "id": "AK1Yrsop7L3X",
        "colab_type": "code",
        "colab": {}
      },
      "source": [
        "#4\n",
        "#running the following code \n",
        "\n",
        "%matplotlib inline\n",
        "\n",
        "# Here's the function\n",
        "def g(x):\n",
        "    return 2*x**(-2) - x "
      ],
      "execution_count": 0,
      "outputs": []
    },
    {
      "cell_type": "code",
      "metadata": {
        "id": "LNnwexvY99Ml",
        "colab_type": "code",
        "outputId": "b136a4bf-06ae-4c3e-deeb-a34c92129382",
        "colab": {
          "base_uri": "https://localhost:8080/",
          "height": 34
        }
      },
      "source": [
        "v=f(g(x))\n",
        "v"
      ],
      "execution_count": 20,
      "outputs": [
        {
          "output_type": "execute_result",
          "data": {
            "text/plain": [
              "2*(-x + 2/x**2)**2 + 1"
            ]
          },
          "metadata": {
            "tags": []
          },
          "execution_count": 20
        }
      ]
    },
    {
      "cell_type": "code",
      "metadata": {
        "id": "eSKGPQ_p-Hth",
        "colab_type": "code",
        "outputId": "4c55e5c8-b035-4b55-ae76-2342f2257919",
        "colab": {
          "base_uri": "https://localhost:8080/",
          "height": 34
        }
      },
      "source": [
        "\n",
        "b=diff(v)\n",
        "b"
      ],
      "execution_count": 21,
      "outputs": [
        {
          "output_type": "execute_result",
          "data": {
            "text/plain": [
              "2*(-2 - 8/x**3)*(-x + 2/x**2)"
            ]
          },
          "metadata": {
            "tags": []
          },
          "execution_count": 21
        }
      ]
    },
    {
      "cell_type": "code",
      "metadata": {
        "id": "W4f1rr1p7m2a",
        "colab_type": "code",
        "outputId": "19facef4-f2e7-444b-835b-2af503893323",
        "colab": {
          "base_uri": "https://localhost:8080/",
          "height": 34
        }
      },
      "source": [
        "g=g(f(x))\n",
        "d=diff(g)\n",
        "d"
      ],
      "execution_count": 22,
      "outputs": [
        {
          "output_type": "execute_result",
          "data": {
            "text/plain": [
              "-4*x - 16*x/(2*x**2 + 1)**3"
            ]
          },
          "metadata": {
            "tags": []
          },
          "execution_count": 22
        }
      ]
    },
    {
      "cell_type": "markdown",
      "metadata": {
        "id": "M8YkMuqN8Kin",
        "colab_type": "text"
      },
      "source": [
        "g'=f'(x)g'(f(x)) ≠ v'=g'(x)f'(g(x))  This is because the exponent of the two equations is completely different.\n"
      ]
    },
    {
      "cell_type": "code",
      "metadata": {
        "id": "3nNvEOvpA9vZ",
        "colab_type": "code",
        "outputId": "260aac56-3f81-424b-a9c8-881833ecacc1",
        "colab": {
          "base_uri": "https://localhost:8080/",
          "height": 279
        }
      },
      "source": [
        "#5\n",
        "%matplotlib inline\n",
        "\n",
        "# Create function w\n",
        "def w(x):\n",
        "    return (x**3) - (2*x) + 100\n",
        "\n",
        "def wd(x):\n",
        "    return 3*x**2 - 2\n",
        "\n",
        "from matplotlib import pyplot as plt\n",
        "x=Symbol('x')\n",
        "equation1=3*x**2 - 2\n",
        "solve1=solve(equation1,x)\n",
        "a=w(solve1[0])\n",
        "b=w(solve1[1])\n",
        "plt.scatter(solve1[0],a)\n",
        "plt.scatter(solve1[1],b)\n",
        "# Create an array of x values to plot\n",
        "x = list(range(-10, 11))\n",
        "\n",
        "# Use the function to get the y values\n",
        "y = [w(i) for i in x]\n",
        "\n",
        "# Use the derivative function to get the derivative values\n",
        "yd = [wd(i) for i in x]\n",
        "\n",
        "# Set up the graph\n",
        "plt.xlabel('x (time in days)')\n",
        "plt.ylabel('w(x) (flowers)')\n",
        "plt.xticks(range(-10,15, 1))\n",
        "plt.yticks(range(-1200, 1200, 100))\n",
        "plt.grid()\n",
        "\n",
        "# Plot the function\n",
        "plt.plot(x,y, color='green')\n",
        "\n",
        "# Plot the derivative\n",
        "plt.plot(x,yd, color='purple')\n",
        "\n",
        "plt.show()"
      ],
      "execution_count": 23,
      "outputs": [
        {
          "output_type": "display_data",
          "data": {
            "image/png": "[encoded data removed]",
            "text/plain": [
              "<Figure size 432x288 with 1 Axes>"
            ]
          },
          "metadata": {
            "tags": [],
            "needs_background": "light"
          }
        }
      ]
    },
    {
      "cell_type": "code",
      "metadata": {
        "id": "YPwdIoSFJCOF",
        "colab_type": "code",
        "outputId": "0e32c500-b91b-44b2-b659-2e5562da7cf7",
        "colab": {
          "base_uri": "https://localhost:8080/",
          "height": 34
        }
      },
      "source": [
        "#6\n",
        "import numpy as np\n",
        "x=Symbol('x')\n",
        "y=Symbol('y')\n",
        "f=x**2+y**2\n",
        "a=diff(f,x)\n",
        "b=diff(f,y)\n",
        "c=np.array([a,\n",
        "            b])\n",
        "print(c)"
      ],
      "execution_count": 24,
      "outputs": [
        {
          "output_type": "stream",
          "text": [
            "[2*x 2*y]\n"
          ],
          "name": "stdout"
        }
      ]
    },
    {
      "cell_type": "code",
      "metadata": {
        "id": "SzYIWL-mWF7H",
        "colab_type": "code",
        "outputId": "7389ed07-ddf9-4920-be0d-476426d53fc8",
        "colab": {
          "base_uri": "https://localhost:8080/",
          "height": 34
        }
      },
      "source": [
        "#7\n",
        "import numpy as np\n",
        "def gradient_descent(f, first_x, A=0.01, repeat=200):\n",
        "    x = first_x\n",
        "    for i in range(repeat):\n",
        "        grad = gradient(f, x)\n",
        "        x -= A* grad\n",
        "    return x\n",
        "def gradient(f, x, h = 0.00001):\n",
        "    grad = np.zeros_like(x)\n",
        "    for i in range(x.size):\n",
        "      t = x[i]\n",
        "      x[i] = t + h\n",
        "      fxh1 = f(x)\n",
        "      x[i] = t - h\n",
        "      fxh2 = f(x)    \n",
        "      grad[i] = (fxh1 - fxh2) / (2 * h)\n",
        "      x[i] = t\n",
        "    return grad\n",
        "def func(x):\n",
        "    return (x[0]-3)**2 + (x[1]-2)**2+(x[2]-5)**2\n",
        "first_x = np.array([-5.0, 1.0,7.0])\n",
        "ans = gradient_descent(func, first_x=first_x, A=0.1, repeat=200)\n",
        "print(ans)"
      ],
      "execution_count": 2,
      "outputs": [
        {
          "output_type": "stream",
          "text": [
            "[3. 2. 5.]\n"
          ],
          "name": "stdout"
        }
      ]
    },
    {
      "cell_type": "code",
      "metadata": {
        "id": "wmvtlucBoFGy",
        "colab_type": "code",
        "colab": {}
      },
      "source": [
        "from math import * \n",
        "import sympy"
      ],
      "execution_count": 0,
      "outputs": []
    },
    {
      "cell_type": "code",
      "metadata": {
        "id": "SMdenttFtcOS",
        "colab_type": "code",
        "colab": {
          "base_uri": "https://localhost:8080/",
          "height": 90
        },
        "outputId": "ca836c69-fde7-47b4-8e98-eb0529011ae7"
      },
      "source": [
        "#8\n",
        "import math\n",
        "def k(x):\n",
        "  return 5*x -1\n",
        "def h(x):\n",
        "  return 2*x**2+k(x)\n",
        "def g(x):\n",
        "  return (math.e)**h(x)\n",
        "def f(x):\n",
        "  return (math.log10(g(x)))\n",
        "def w(x):\n",
        "  return f(g(h(k(x))))\n",
        "def gradient_descent(u, first_x, A=0.01, repeat=100):\n",
        "    x = first_x\n",
        "    for i in range(repeat):\n",
        "        grad = gradient(u, x)\n",
        "        x -= A* grad\n",
        "    return x\n",
        "def gradient(u, x, h = 0.00001):\n",
        "    grad = np.zeros_like(x)\n",
        "    for i in range(x.size):\n",
        "      t = x[i]\n",
        "      x[i] = t + h\n",
        "      fxh1 = u(x)\n",
        "      x[i] = t - h\n",
        "      fxh2 = u(x)    \n",
        "      grad[i] = (fxh1 - fxh2) / (2 * h)\n",
        "      x[i] = t\n",
        "    return grad\n",
        "first_x = np.array([0.0])\n",
        "ans = gradient_descent(w, first_x=first_x, A=0.1, repeat=100)\n",
        "print(ans)"
      ],
      "execution_count": 6,
      "outputs": [
        {
          "output_type": "stream",
          "text": [
            "[nan]\n"
          ],
          "name": "stdout"
        },
        {
          "output_type": "stream",
          "text": [
            "/usr/local/lib/python3.6/dist-packages/ipykernel_launcher.py:8: RuntimeWarning: overflow encountered in power\n",
            "  \n"
          ],
          "name": "stderr"
        }
      ]
    },
    {
      "cell_type": "code",
      "metadata": {
        "id": "Kvo4o7YvuX9t",
        "colab_type": "code",
        "colab": {
          "base_uri": "https://localhost:8080/",
          "height": 239
        },
        "outputId": "e29dd35b-93a9-45a1-90c4-875b3616b3ed"
      },
      "source": [
        "#9\n",
        "c=np.array([[a.subs({x:1})],\n",
        "            [b.subs({y:3})]])\n",
        "print(c)\n",
        "d=np.array([[a.subs({x:-1})],\n",
        "            [b.subs({y:-3})]])\n",
        "print(d)"
      ],
      "execution_count": 4,
      "outputs": [
        {
          "output_type": "error",
          "ename": "NameError",
          "evalue": "ignored",
          "traceback": [
            "\u001b[0;31m---------------------------------------------------------------------------\u001b[0m",
            "\u001b[0;31mNameError\u001b[0m                                 Traceback (most recent call last)",
            "\u001b[0;32m<ipython-input-4-f2c898aa397f>\u001b[0m in \u001b[0;36m<module>\u001b[0;34m()\u001b[0m\n\u001b[1;32m      1\u001b[0m \u001b[0;31m#9\u001b[0m\u001b[0;34m\u001b[0m\u001b[0;34m\u001b[0m\u001b[0;34m\u001b[0m\u001b[0m\n\u001b[0;32m----> 2\u001b[0;31m c=np.array([[a.subs({x:1})],\n\u001b[0m\u001b[1;32m      3\u001b[0m             [b.subs({y:3})]])\n\u001b[1;32m      4\u001b[0m \u001b[0mprint\u001b[0m\u001b[0;34m(\u001b[0m\u001b[0mc\u001b[0m\u001b[0;34m)\u001b[0m\u001b[0;34m\u001b[0m\u001b[0;34m\u001b[0m\u001b[0m\n\u001b[1;32m      5\u001b[0m d=np.array([[a.subs({x:-1})],\n",
            "\u001b[0;31mNameError\u001b[0m: name 'a' is not defined"
          ]
        }
      ]
    },
    {
      "cell_type": "code",
      "metadata": {
        "id": "zA6WecwByKGV",
        "colab_type": "code",
        "colab": {
          "base_uri": "https://localhost:8080/",
          "height": 52
        },
        "outputId": "6873992c-ea10-4af7-bf4b-610780075ed7"
      },
      "source": [
        "#10\n",
        "import numpy as np\n",
        "def gradient_descent(f, init_x, A=0.01, repeat=200):\n",
        "    x = init_x\n",
        "    for i in range(repeat):\n",
        "        grad = gradient(f, x)\n",
        "        x -= A* grad\n",
        "    return x\n",
        "def gradient(f, x, h = 0.00001):\n",
        "    grad = np.zeros_like(x)\n",
        "    for i in range(0,2):\n",
        "      for j in range(0,3):\n",
        "        t = x[i,j]\n",
        "        # f(x+h) 계산\n",
        "        x[i,j] = t + h\n",
        "        fxh1 = f(x)\n",
        "        # f(x-h) 계산\n",
        "        x[i,j] = t - h\n",
        "        fxh2 = f(x)    \n",
        "        grad[i,j] = (fxh1 - fxh2) / (2 * h)\n",
        "        x[i,j] = t\n",
        "    return grad\n",
        "def func(x):\n",
        "    return (x[0,0]-3)**2 + (x[0,1]-2)**2+(x[0,2]-5)**2\n",
        "def func1(x):\n",
        "    return (x[1,0]-3)**2 + (x[1,1]-2)**2+(x[1,2]-5)**2\n",
        "\n",
        "init_x = np.array([[-3.0, 4.0,3.0],\n",
        "                  [2.0,3.0,1.0]])\n",
        "ans = gradient_descent(func, init_x=init_x, A=0.1, repeat=200)\n",
        "ans1=gradient_descent(func1, init_x=init_x, A=0.1, repeat=200)\n",
        "print(ans)"
      ],
      "execution_count": 29,
      "outputs": [
        {
          "output_type": "stream",
          "text": [
            "[[3. 2. 5.]\n",
            " [3. 2. 5.]]\n"
          ],
          "name": "stdout"
        }
      ]
    },
    {
      "cell_type": "code",
      "metadata": {
        "id": "WWrI5xnsxmaj",
        "colab_type": "code",
        "outputId": "70b43a8e-ee6e-422d-92dd-ea2073277745",
        "colab": {
          "base_uri": "https://localhost:8080/",
          "height": 158
        }
      },
      "source": [
        "#11\n",
        "import numpy as np\n",
        "\n",
        "A = np.array([[3,2],\n",
        "              [1,0]])\n",
        "\n",
        "l, Q = np.linalg.eig(A)\n",
        "print(Q)\n",
        "Qinv = np.linalg.inv(Q)\n",
        "print(Qinv)\n",
        "L = np.diag(l)\n",
        "print (L)\n",
        "D=Q.dot(L).dot(Qinv)\n",
        "print(D)"
      ],
      "execution_count": 30,
      "outputs": [
        {
          "output_type": "stream",
          "text": [
            "[[ 0.96276969 -0.48963374]\n",
            " [ 0.27032301  0.87192821]]\n",
            "[[ 0.89720673  0.50382896]\n",
            " [-0.27816009  0.99068183]]\n",
            "[[ 3.56155281  0.        ]\n",
            " [ 0.         -0.56155281]]\n",
            "[[ 3.00000000e+00  2.00000000e+00]\n",
            " [ 1.00000000e+00 -5.63124382e-17]]\n"
          ],
          "name": "stdout"
        }
      ]
    },
    {
      "cell_type": "code",
      "metadata": {
        "id": "wB-TvU8A3qmQ",
        "colab_type": "code",
        "outputId": "d0b7f84b-e5fb-4831-cb4d-edad489f3c1b",
        "colab": {
          "base_uri": "https://localhost:8080/",
          "height": 193
        }
      },
      "source": [
        "#12\n",
        "def inverse(x):\n",
        "  a=np.zeros((2,2))\n",
        "  b=a+x\n",
        "  e=1/(b[0,0]*b[1,1]-b[0,1]*b[1,0])*np.array([[b[1,1],-b[0,1]],[-b[1,0],b[0,0]]])\n",
        "  return e\n",
        "A = np.array([[2,0],\n",
        "              [0,2]])\n",
        "import random\n",
        "α=random.random()\n",
        "A_prime=np.array([[α,0],\n",
        "                  [0,α]]) \n",
        "l, Q = np.linalg.eig(A)\n",
        "print(Q)\n",
        "Qinv = inverse(Q)\n",
        "print(Qinv)\n",
        "L = np.diag(l)\n",
        "print (L)\n",
        "D=Q.dot(L).dot(Qinv)\n",
        "print(D)\n",
        "H=A+A_prime\n",
        "H_prime=inverse(H)\n",
        "H_prime"
      ],
      "execution_count": 31,
      "outputs": [
        {
          "output_type": "stream",
          "text": [
            "[[1. 0.]\n",
            " [0. 1.]]\n",
            "[[ 1. -0.]\n",
            " [-0.  1.]]\n",
            "[[2. 0.]\n",
            " [0. 2.]]\n",
            "[[2. 0.]\n",
            " [0. 2.]]\n"
          ],
          "name": "stdout"
        },
        {
          "output_type": "execute_result",
          "data": {
            "text/plain": [
              "array([[ 0.36109847, -0.        ],\n",
              "       [-0.        ,  0.36109847]])"
            ]
          },
          "metadata": {
            "tags": []
          },
          "execution_count": 31
        }
      ]
    },
    {
      "cell_type": "code",
      "metadata": {
        "id": "jC4N_OtT9BD0",
        "colab_type": "code",
        "outputId": "e1632d30-daa9-4771-81e7-a2d27d347540",
        "colab": {
          "base_uri": "https://localhost:8080/",
          "height": 457
        }
      },
      "source": [
        "#13\n",
        "import statsmodels.api as sm\n",
        "\n",
        "df = sm.datasets.get_rdataset('GaltonFamilies', package='HistData').data\n",
        "df"
      ],
      "execution_count": 32,
      "outputs": [
        {
          "output_type": "stream",
          "text": [
            "/usr/local/lib/python3.6/dist-packages/statsmodels/tools/_testing.py:19: FutureWarning: pandas.util.testing is deprecated. Use the functions in the public API at pandas.testing instead.\n",
            "  import pandas.util.testing as tm\n"
          ],
          "name": "stderr"
        },
        {
          "output_type": "execute_result",
          "data": {
            "text/html": [
              "<div>\n",
              "<style scoped>\n",
              "    .dataframe tbody tr th:only-of-type {\n",
              "        vertical-align: middle;\n",
              "    }\n",
              "\n",
              "    .dataframe tbody tr th {\n",
              "        vertical-align: top;\n",
              "    }\n",
              "\n",
              "    .dataframe thead th {\n",
              "        text-align: right;\n",
              "    }\n",
              "</style>\n",
              "<table border=\"1\" class=\"dataframe\">\n",
              "  <thead>\n",
              "    <tr style=\"text-align: right;\">\n",
              "      <th></th>\n",
              "      <th>family</th>\n",
              "      <th>father</th>\n",
              "      <th>mother</th>\n",
              "      <th>midparentHeight</th>\n",
              "      <th>children</th>\n",
              "      <th>childNum</th>\n",
              "      <th>gender</th>\n",
              "      <th>childHeight</th>\n",
              "    </tr>\n",
              "  </thead>\n",
              "  <tbody>\n",
              "    <tr>\n",
              "      <th>0</th>\n",
              "      <td>001</td>\n",
              "      <td>78.5</td>\n",
              "      <td>67.0</td>\n",
              "      <td>75.43</td>\n",
              "      <td>4</td>\n",
              "      <td>1</td>\n",
              "      <td>male</td>\n",
              "      <td>73.2</td>\n",
              "    </tr>\n",
              "    <tr>\n",
              "      <th>1</th>\n",
              "      <td>001</td>\n",
              "      <td>78.5</td>\n",
              "      <td>67.0</td>\n",
              "      <td>75.43</td>\n",
              "      <td>4</td>\n",
              "      <td>2</td>\n",
              "      <td>female</td>\n",
              "      <td>69.2</td>\n",
              "    </tr>\n",
              "    <tr>\n",
              "      <th>2</th>\n",
              "      <td>001</td>\n",
              "      <td>78.5</td>\n",
              "      <td>67.0</td>\n",
              "      <td>75.43</td>\n",
              "      <td>4</td>\n",
              "      <td>3</td>\n",
              "      <td>female</td>\n",
              "      <td>69.0</td>\n",
              "    </tr>\n",
              "    <tr>\n",
              "      <th>3</th>\n",
              "      <td>001</td>\n",
              "      <td>78.5</td>\n",
              "      <td>67.0</td>\n",
              "      <td>75.43</td>\n",
              "      <td>4</td>\n",
              "      <td>4</td>\n",
              "      <td>female</td>\n",
              "      <td>69.0</td>\n",
              "    </tr>\n",
              "    <tr>\n",
              "      <th>4</th>\n",
              "      <td>002</td>\n",
              "      <td>75.5</td>\n",
              "      <td>66.5</td>\n",
              "      <td>73.66</td>\n",
              "      <td>4</td>\n",
              "      <td>1</td>\n",
              "      <td>male</td>\n",
              "      <td>73.5</td>\n",
              "    </tr>\n",
              "    <tr>\n",
              "      <th>...</th>\n",
              "      <td>...</td>\n",
              "      <td>...</td>\n",
              "      <td>...</td>\n",
              "      <td>...</td>\n",
              "      <td>...</td>\n",
              "      <td>...</td>\n",
              "      <td>...</td>\n",
              "      <td>...</td>\n",
              "    </tr>\n",
              "    <tr>\n",
              "      <th>929</th>\n",
              "      <td>203</td>\n",
              "      <td>62.0</td>\n",
              "      <td>66.0</td>\n",
              "      <td>66.64</td>\n",
              "      <td>3</td>\n",
              "      <td>1</td>\n",
              "      <td>male</td>\n",
              "      <td>64.0</td>\n",
              "    </tr>\n",
              "    <tr>\n",
              "      <th>930</th>\n",
              "      <td>203</td>\n",
              "      <td>62.0</td>\n",
              "      <td>66.0</td>\n",
              "      <td>66.64</td>\n",
              "      <td>3</td>\n",
              "      <td>2</td>\n",
              "      <td>female</td>\n",
              "      <td>62.0</td>\n",
              "    </tr>\n",
              "    <tr>\n",
              "      <th>931</th>\n",
              "      <td>203</td>\n",
              "      <td>62.0</td>\n",
              "      <td>66.0</td>\n",
              "      <td>66.64</td>\n",
              "      <td>3</td>\n",
              "      <td>3</td>\n",
              "      <td>female</td>\n",
              "      <td>61.0</td>\n",
              "    </tr>\n",
              "    <tr>\n",
              "      <th>932</th>\n",
              "      <td>204</td>\n",
              "      <td>62.5</td>\n",
              "      <td>63.0</td>\n",
              "      <td>65.27</td>\n",
              "      <td>2</td>\n",
              "      <td>1</td>\n",
              "      <td>male</td>\n",
              "      <td>66.5</td>\n",
              "    </tr>\n",
              "    <tr>\n",
              "      <th>933</th>\n",
              "      <td>204</td>\n",
              "      <td>62.5</td>\n",
              "      <td>63.0</td>\n",
              "      <td>65.27</td>\n",
              "      <td>2</td>\n",
              "      <td>2</td>\n",
              "      <td>female</td>\n",
              "      <td>57.0</td>\n",
              "    </tr>\n",
              "  </tbody>\n",
              "</table>\n",
              "<p>934 rows × 8 columns</p>\n",
              "</div>"
            ],
            "text/plain": [
              "    family  father  mother  ...  childNum  gender  childHeight\n",
              "0      001    78.5    67.0  ...         1    male         73.2\n",
              "1      001    78.5    67.0  ...         2  female         69.2\n",
              "2      001    78.5    67.0  ...         3  female         69.0\n",
              "3      001    78.5    67.0  ...         4  female         69.0\n",
              "4      002    75.5    66.5  ...         1    male         73.5\n",
              "..     ...     ...     ...  ...       ...     ...          ...\n",
              "929    203    62.0    66.0  ...         1    male         64.0\n",
              "930    203    62.0    66.0  ...         2  female         62.0\n",
              "931    203    62.0    66.0  ...         3  female         61.0\n",
              "932    204    62.5    63.0  ...         1    male         66.5\n",
              "933    204    62.5    63.0  ...         2  female         57.0\n",
              "\n",
              "[934 rows x 8 columns]"
            ]
          },
          "metadata": {
            "tags": []
          },
          "execution_count": 32
        }
      ]
    },
    {
      "cell_type": "code",
      "metadata": {
        "id": "v-ra6DGsr1cS",
        "colab_type": "code",
        "outputId": "151d7231-10b2-4a94-a3e7-ced88759d4bd",
        "colab": {
          "base_uri": "https://localhost:8080/",
          "height": 34
        }
      },
      "source": [
        "df.shape[0]"
      ],
      "execution_count": 33,
      "outputs": [
        {
          "output_type": "execute_result",
          "data": {
            "text/plain": [
              "934"
            ]
          },
          "metadata": {
            "tags": []
          },
          "execution_count": 33
        }
      ]
    },
    {
      "cell_type": "code",
      "metadata": {
        "id": "ZnmJncGXbkRI",
        "colab_type": "code",
        "outputId": "3ef63383-cbd6-4daa-f4b4-bd0d91ae9acc",
        "colab": {
          "base_uri": "https://localhost:8080/",
          "height": 284
        }
      },
      "source": [
        "small_data = df.iloc[4:12, 4:8]\n",
        "small_data"
      ],
      "execution_count": 34,
      "outputs": [
        {
          "output_type": "execute_result",
          "data": {
            "text/html": [
              "<div>\n",
              "<style scoped>\n",
              "    .dataframe tbody tr th:only-of-type {\n",
              "        vertical-align: middle;\n",
              "    }\n",
              "\n",
              "    .dataframe tbody tr th {\n",
              "        vertical-align: top;\n",
              "    }\n",
              "\n",
              "    .dataframe thead th {\n",
              "        text-align: right;\n",
              "    }\n",
              "</style>\n",
              "<table border=\"1\" class=\"dataframe\">\n",
              "  <thead>\n",
              "    <tr style=\"text-align: right;\">\n",
              "      <th></th>\n",
              "      <th>children</th>\n",
              "      <th>childNum</th>\n",
              "      <th>gender</th>\n",
              "      <th>childHeight</th>\n",
              "    </tr>\n",
              "  </thead>\n",
              "  <tbody>\n",
              "    <tr>\n",
              "      <th>4</th>\n",
              "      <td>4</td>\n",
              "      <td>1</td>\n",
              "      <td>male</td>\n",
              "      <td>73.5</td>\n",
              "    </tr>\n",
              "    <tr>\n",
              "      <th>5</th>\n",
              "      <td>4</td>\n",
              "      <td>2</td>\n",
              "      <td>male</td>\n",
              "      <td>72.5</td>\n",
              "    </tr>\n",
              "    <tr>\n",
              "      <th>6</th>\n",
              "      <td>4</td>\n",
              "      <td>3</td>\n",
              "      <td>female</td>\n",
              "      <td>65.5</td>\n",
              "    </tr>\n",
              "    <tr>\n",
              "      <th>7</th>\n",
              "      <td>4</td>\n",
              "      <td>4</td>\n",
              "      <td>female</td>\n",
              "      <td>65.5</td>\n",
              "    </tr>\n",
              "    <tr>\n",
              "      <th>8</th>\n",
              "      <td>2</td>\n",
              "      <td>1</td>\n",
              "      <td>male</td>\n",
              "      <td>71.0</td>\n",
              "    </tr>\n",
              "    <tr>\n",
              "      <th>9</th>\n",
              "      <td>2</td>\n",
              "      <td>2</td>\n",
              "      <td>female</td>\n",
              "      <td>68.0</td>\n",
              "    </tr>\n",
              "    <tr>\n",
              "      <th>10</th>\n",
              "      <td>5</td>\n",
              "      <td>1</td>\n",
              "      <td>male</td>\n",
              "      <td>70.5</td>\n",
              "    </tr>\n",
              "    <tr>\n",
              "      <th>11</th>\n",
              "      <td>5</td>\n",
              "      <td>2</td>\n",
              "      <td>male</td>\n",
              "      <td>68.5</td>\n",
              "    </tr>\n",
              "  </tbody>\n",
              "</table>\n",
              "</div>"
            ],
            "text/plain": [
              "    children  childNum  gender  childHeight\n",
              "4          4         1    male         73.5\n",
              "5          4         2    male         72.5\n",
              "6          4         3  female         65.5\n",
              "7          4         4  female         65.5\n",
              "8          2         1    male         71.0\n",
              "9          2         2  female         68.0\n",
              "10         5         1    male         70.5\n",
              "11         5         2    male         68.5"
            ]
          },
          "metadata": {
            "tags": []
          },
          "execution_count": 34
        }
      ]
    },
    {
      "cell_type": "code",
      "metadata": {
        "id": "KmFyG_8arRDZ",
        "colab_type": "code",
        "colab": {}
      },
      "source": [
        "import numpy as np\n",
        "import pandas as pd\n",
        "import matplotlib.pyplot as plt\n",
        "gender= df['gender']\n",
        "male = df['gender'].isin(['female'])\n",
        "a=df[~male]\n",
        "female=df['gender'].isin(['male'])\n",
        "b=df[~female]"
      ],
      "execution_count": 0,
      "outputs": []
    },
    {
      "cell_type": "code",
      "metadata": {
        "id": "GYXI0_PLtqCZ",
        "colab_type": "code",
        "colab": {}
      },
      "source": [
        "a1=a['gender']\n",
        "b1=b['gender']"
      ],
      "execution_count": 0,
      "outputs": []
    },
    {
      "cell_type": "code",
      "metadata": {
        "id": "bc0zjseSy-hP",
        "colab_type": "code",
        "colab": {}
      },
      "source": [
        "a2=len(a1)\n",
        "b2=len(b1)"
      ],
      "execution_count": 0,
      "outputs": []
    },
    {
      "cell_type": "code",
      "metadata": {
        "id": "MOQGonD90NCm",
        "colab_type": "code",
        "outputId": "5e29132b-2548-419d-da50-0a372401602d",
        "colab": {
          "base_uri": "https://localhost:8080/",
          "height": 304
        }
      },
      "source": [
        "plt.xlabel('gender')\n",
        "plt.ylabel('children')\n",
        "label = ['male', 'female']\n",
        "index = np.arange(len(label))\n",
        "y_value=(a2,b2)\n",
        "plt.xticks(index, label, fontsize=15)\n",
        "plt.bar(index,y_value)\n",
        "\n",
        "\n",
        "\n"
      ],
      "execution_count": 38,
      "outputs": [
        {
          "output_type": "execute_result",
          "data": {
            "text/plain": [
              "<BarContainer object of 2 artists>"
            ]
          },
          "metadata": {
            "tags": []
          },
          "execution_count": 38
        },
        {
          "output_type": "display_data",
          "data": {
            "image/png": "[encoded data removed]",
            "text/plain": [
              "<Figure size 432x288 with 1 Axes>"
            ]
          },
          "metadata": {
            "tags": [],
            "needs_background": "light"
          }
        }
      ]
    },
    {
      "cell_type": "code",
      "metadata": {
        "id": "vM0dl3ni2BV3",
        "colab_type": "code",
        "outputId": "051e2dbb-08d9-420b-f76a-229ca830b0e0",
        "colab": {
          "base_uri": "https://localhost:8080/",
          "height": 34
        }
      },
      "source": [
        "#14\n",
        "print(df['children'].max())\n",
        "c11= df[df.children ==1]\n",
        "c22= df[df.children ==2]\n",
        "c33= df[df.children ==3]\n",
        "c44= df[df.children ==4]\n",
        "c55= df[df.children ==5]\n",
        "c66= df[df.children ==6]\n",
        "c77= df[df.children ==7]\n",
        "c88=df[df.children ==8]\n",
        "c99=df[df.children ==9]\n",
        "c1010=df[df.children ==10]\n",
        "c1111=df[df.children ==11]\n",
        "c1515=df[df.children ==15]\n"
      ],
      "execution_count": 39,
      "outputs": [
        {
          "output_type": "stream",
          "text": [
            "15\n"
          ],
          "name": "stdout"
        }
      ]
    },
    {
      "cell_type": "code",
      "metadata": {
        "id": "KUMYzJBQ8ff3",
        "colab_type": "code",
        "colab": {}
      },
      "source": [
        "c1c=len(c11['children'])\n",
        "c2c=len(c22['children'])\n",
        "c3c=len(c33['children'])\n",
        "c4c=len(c44['children'])\n",
        "c5c=len(c55['children'])\n",
        "c6c=len(c66['children'])\n",
        "c7c=len(c77['children'])\n",
        "c8c=len(c88['children'])\n",
        "c9c=len(c99['children'])\n",
        "c10c=len(c1010['children'])\n",
        "c11c=len(c1111['children'])\n",
        "c15c=len(c1515['children'])"
      ],
      "execution_count": 0,
      "outputs": []
    },
    {
      "cell_type": "code",
      "metadata": {
        "id": "BxH3lF1d_RUA",
        "colab_type": "code",
        "outputId": "964478de-0d1e-485d-a8e1-bdfd2aee1ef9",
        "colab": {
          "base_uri": "https://localhost:8080/",
          "height": 302
        }
      },
      "source": [
        "plt.xlabel('children')\n",
        "plt.ylabel('family')\n",
        "label = ['1','2','3','4','5','6','7','8','9','10','11','15']\n",
        "index = np.arange(len(label))\n",
        "y_value=(c1c,c2c,c3c,c4c,c5c,c6c,c7c,c8c,c9c,c10c,c11c,c15c)\n",
        "plt.xticks(index, label, fontsize=15)\n",
        "plt.bar(index,y_value)"
      ],
      "execution_count": 41,
      "outputs": [
        {
          "output_type": "execute_result",
          "data": {
            "text/plain": [
              "<BarContainer object of 12 artists>"
            ]
          },
          "metadata": {
            "tags": []
          },
          "execution_count": 41
        },
        {
          "output_type": "display_data",
          "data": {
            "image/png": "[encoded data removed]",
            "text/plain": [
              "<Figure size 432x288 with 1 Axes>"
            ]
          },
          "metadata": {
            "tags": [],
            "needs_background": "light"
          }
        }
      ]
    },
    {
      "cell_type": "code",
      "metadata": {
        "id": "zPW24KefEYbe",
        "colab_type": "code",
        "outputId": "b5c10f6c-b011-498d-b44a-0d0dbf0209e8",
        "colab": {
          "base_uri": "https://localhost:8080/",
          "height": 297
        }
      },
      "source": [
        "#15\n",
        "plt.hist(df['father'],range(62,80),histtype='bar',rwidth=0.4)\n",
        "plt.xlabel('fatherHeight')\n",
        "plt.ylabel('father')"
      ],
      "execution_count": 42,
      "outputs": [
        {
          "output_type": "execute_result",
          "data": {
            "text/plain": [
              "Text(0, 0.5, 'father')"
            ]
          },
          "metadata": {
            "tags": []
          },
          "execution_count": 42
        },
        {
          "output_type": "display_data",
          "data": {
            "image/png": "[encoded data removed]",
            "text/plain": [
              "<Figure size 432x288 with 1 Axes>"
            ]
          },
          "metadata": {
            "tags": [],
            "needs_background": "light"
          }
        }
      ]
    },
    {
      "cell_type": "code",
      "metadata": {
        "id": "sjjtvt6oFMtI",
        "colab_type": "code",
        "outputId": "1b6b207d-9923-4866-90f1-e12323aefcdd",
        "colab": {
          "base_uri": "https://localhost:8080/",
          "height": 297
        }
      },
      "source": [
        "plt.hist(df['father'],histtype='bar',rwidth=0.4)\n",
        "plt.xlabel('fatherHeight')\n",
        "plt.ylabel('father')"
      ],
      "execution_count": 43,
      "outputs": [
        {
          "output_type": "execute_result",
          "data": {
            "text/plain": [
              "Text(0, 0.5, 'father')"
            ]
          },
          "metadata": {
            "tags": []
          },
          "execution_count": 43
        },
        {
          "output_type": "display_data",
          "data": {
            "image/png": "[encoded data removed]",
            "text/plain": [
              "<Figure size 432x288 with 1 Axes>"
            ]
          },
          "metadata": {
            "tags": [],
            "needs_background": "light"
          }
        }
      ]
    },
    {
      "cell_type": "code",
      "metadata": {
        "id": "Q94BwWrHH5zb",
        "colab_type": "code",
        "outputId": "5370b2f4-e6f1-4fbf-e626-8ecf59fb4c4c",
        "colab": {
          "base_uri": "https://localhost:8080/",
          "height": 300
        }
      },
      "source": [
        "#16\n",
        "plt.scatter(df['midparentHeight'],df['childHeight'],s=15)\n",
        "plt.xlabel('midparentHeight')\n",
        "plt.ylabel('childHeight')"
      ],
      "execution_count": 44,
      "outputs": [
        {
          "output_type": "execute_result",
          "data": {
            "text/plain": [
              "Text(0, 0.5, 'childHeight')"
            ]
          },
          "metadata": {
            "tags": []
          },
          "execution_count": 44
        },
        {
          "output_type": "display_data",
          "data": {
            "image/png": "[encoded data removed]",
            "text/plain": [
              "<Figure size 432x288 with 1 Axes>"
            ]
          },
          "metadata": {
            "tags": [],
            "needs_background": "light"
          }
        }
      ]
    },
    {
      "cell_type": "code",
      "metadata": {
        "id": "GSjeNy3LAwlW",
        "colab_type": "code",
        "outputId": "59425477-b93c-47fa-e786-952737ae7117",
        "colab": {
          "base_uri": "https://localhost:8080/",
          "height": 321
        }
      },
      "source": [
        "%matplotlib inline\n",
        "import random\n",
        "\n",
        "# Create a list with 2 element (for heads and tails)\n",
        "heads_tails = [0,0]\n",
        "\n",
        "# loop through 10000 trials\n",
        "trials = 10000\n",
        "trial = 0\n",
        "while trial < trials:\n",
        "    trial = trial + 1\n",
        "    # Get a random 0 or 1\n",
        "    toss = random.randint(0,1)\n",
        "    # Increment the list element corresponding to the toss result\n",
        "    heads_tails[toss] = heads_tails[toss] + 1\n",
        "\n",
        "print (heads_tails)\n",
        "\n",
        "# Show a pie chart of the results\n",
        "from matplotlib import pyplot as plt\n",
        "plt.figure(figsize=(5,5))\n",
        "plt.pie(heads_tails, labels=['heads', 'tails'])\n",
        "plt.legend()\n",
        "plt.show()"
      ],
      "execution_count": 45,
      "outputs": [
        {
          "output_type": "stream",
          "text": [
            "[5015, 4985]\n"
          ],
          "name": "stdout"
        },
        {
          "output_type": "display_data",
          "data": {
            "image/png": "[encoded data removed]",
            "text/plain": [
              "<Figure size 360x360 with 1 Axes>"
            ]
          },
          "metadata": {
            "tags": []
          }
        }
      ]
    },
    {
      "cell_type": "code",
      "metadata": {
        "id": "uWqyxcHLMuEl",
        "colab_type": "code",
        "outputId": "1029eecc-2113-4310-cbf3-ddeab1aaa191",
        "colab": {
          "base_uri": "https://localhost:8080/",
          "height": 321
        }
      },
      "source": [
        "%matplotlib inline\n",
        "import random\n",
        "\n",
        "# Create a list with 2 element (for heads and tails)\n",
        "heads_tails = [0,0,0,0,0,0]\n",
        "\n",
        "# loop through 10000 trials\n",
        "trials = 10000\n",
        "trial = 0\n",
        "while trial < trials:\n",
        "    trial = trial + 1\n",
        "    # Get a random 0 or 1\n",
        "    toss = random.randint(0,5)\n",
        "    # Increment the list element corresponding to the toss result\n",
        "    heads_tails[toss] = heads_tails[toss] + 1\n",
        "\n",
        "print (heads_tails)\n",
        "\n",
        "# Show a pie chart of the results\n",
        "from matplotlib import pyplot as plt\n",
        "plt.figure(figsize=(5,5))\n",
        "plt.pie(heads_tails, labels=['1', '2','3','4','5','6'])\n",
        "plt.legend()\n",
        "plt.show()"
      ],
      "execution_count": 46,
      "outputs": [
        {
          "output_type": "stream",
          "text": [
            "[1674, 1611, 1670, 1639, 1686, 1720]\n"
          ],
          "name": "stdout"
        },
        {
          "output_type": "display_data",
          "data": {
            "image/png": "[encoded data removed]",
            "text/plain": [
              "<Figure size 360x360 with 1 Axes>"
            ]
          },
          "metadata": {
            "tags": []
          }
        }
      ]
    },
    {
      "cell_type": "code",
      "metadata": {
        "id": "TTmGBEFbEJk8",
        "colab_type": "code",
        "colab": {
          "base_uri": "https://localhost:8080/",
          "height": 52
        },
        "outputId": "e9b21483-d9e2-4300-9fe8-a2842950a439"
      },
      "source": [
        "pa=1\n",
        "pb=1/2\n",
        "pc=1/6\n",
        "print(pa*pb)\n",
        "print(pa*pb-pb*pc)"
      ],
      "execution_count": 47,
      "outputs": [
        {
          "output_type": "stream",
          "text": [
            "0.5\n",
            "0.4166666666666667\n"
          ],
          "name": "stdout"
        }
      ]
    },
    {
      "cell_type": "code",
      "metadata": {
        "id": "QvOw_gTVOv6y",
        "colab_type": "code",
        "outputId": "e431ec9a-3d67-42b9-fbf9-74e13bc512f7",
        "colab": {
          "base_uri": "https://localhost:8080/",
          "height": 206
        }
      },
      "source": [
        "#18\n",
        "import pandas as pd\n",
        "df={'Young':[10503,3586,14089],\n",
        "    'Middle-Aged':[27368,4851,32219],\n",
        "    'Senior Citizens':[259,120,379],\n",
        "    'Total': [38130,8557,46687]}\n",
        "df1=pd.DataFrame(df)\n",
        "print(df1)\n",
        "df2=pd.DataFrame(df,index=['NO','Yes','Total'])\n",
        "df2"
      ],
      "execution_count": 48,
      "outputs": [
        {
          "output_type": "stream",
          "text": [
            "   Young  Middle-Aged  Senior Citizens  Total\n",
            "0  10503        27368              259  38130\n",
            "1   3586         4851              120   8557\n",
            "2  14089        32219              379  46687\n"
          ],
          "name": "stdout"
        },
        {
          "output_type": "execute_result",
          "data": {
            "text/html": [
              "<div>\n",
              "<style scoped>\n",
              "    .dataframe tbody tr th:only-of-type {\n",
              "        vertical-align: middle;\n",
              "    }\n",
              "\n",
              "    .dataframe tbody tr th {\n",
              "        vertical-align: top;\n",
              "    }\n",
              "\n",
              "    .dataframe thead th {\n",
              "        text-align: right;\n",
              "    }\n",
              "</style>\n",
              "<table border=\"1\" class=\"dataframe\">\n",
              "  <thead>\n",
              "    <tr style=\"text-align: right;\">\n",
              "      <th></th>\n",
              "      <th>Young</th>\n",
              "      <th>Middle-Aged</th>\n",
              "      <th>Senior Citizens</th>\n",
              "      <th>Total</th>\n",
              "    </tr>\n",
              "  </thead>\n",
              "  <tbody>\n",
              "    <tr>\n",
              "      <th>NO</th>\n",
              "      <td>10503</td>\n",
              "      <td>27368</td>\n",
              "      <td>259</td>\n",
              "      <td>38130</td>\n",
              "    </tr>\n",
              "    <tr>\n",
              "      <th>Yes</th>\n",
              "      <td>3586</td>\n",
              "      <td>4851</td>\n",
              "      <td>120</td>\n",
              "      <td>8557</td>\n",
              "    </tr>\n",
              "    <tr>\n",
              "      <th>Total</th>\n",
              "      <td>14089</td>\n",
              "      <td>32219</td>\n",
              "      <td>379</td>\n",
              "      <td>46687</td>\n",
              "    </tr>\n",
              "  </tbody>\n",
              "</table>\n",
              "</div>"
            ],
            "text/plain": [
              "       Young  Middle-Aged  Senior Citizens  Total\n",
              "NO     10503        27368              259  38130\n",
              "Yes     3586         4851              120   8557\n",
              "Total  14089        32219              379  46687"
            ]
          },
          "metadata": {
            "tags": []
          },
          "execution_count": 48
        }
      ]
    },
    {
      "cell_type": "code",
      "metadata": {
        "id": "-IsdUI0iQfQC",
        "colab_type": "code",
        "outputId": "f89b7976-3164-4ee4-facc-d9bdf66a4fdf",
        "colab": {
          "base_uri": "https://localhost:8080/",
          "height": 34
        }
      },
      "source": [
        "df2.iloc[0,1]/df2.iloc[2,1]"
      ],
      "execution_count": 49,
      "outputs": [
        {
          "output_type": "execute_result",
          "data": {
            "text/plain": [
              "0.8494366678047115"
            ]
          },
          "metadata": {
            "tags": []
          },
          "execution_count": 49
        }
      ]
    },
    {
      "cell_type": "code",
      "metadata": {
        "id": "8Z0YxNvfUrZm",
        "colab_type": "code",
        "outputId": "da811769-2fd4-41af-a70c-f00eb6109fd2",
        "colab": {
          "base_uri": "https://localhost:8080/",
          "height": 34
        }
      },
      "source": [
        "df2.iloc[0,1]/df2.iloc[0,3]"
      ],
      "execution_count": 50,
      "outputs": [
        {
          "output_type": "execute_result",
          "data": {
            "text/plain": [
              "0.7177550485182271"
            ]
          },
          "metadata": {
            "tags": []
          },
          "execution_count": 50
        }
      ]
    }
  ]
}