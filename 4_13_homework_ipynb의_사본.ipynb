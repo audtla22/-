{
  "nbformat": 4,
  "nbformat_minor": 0,
  "metadata": {
    "colab": {
      "name": "4.13 homework.ipynb의 사본",
      "provenance": [],
      "authorship_tag": "ABX9TyPQyLCX8+GaQuYzDPC7fiY7",
      "include_colab_link": true
    },
    "kernelspec": {
      "name": "python3",
      "display_name": "Python 3"
    }
  },
  "cells": [
    {
      "cell_type": "markdown",
      "metadata": {
        "id": "view-in-github",
        "colab_type": "text"
      },
      "source": [
        "<a href=\"https://colab.research.google.com/github/audtla22/-/blob/master/4_13_homework_ipynb%EC%9D%98_%EC%82%AC%EB%B3%B8.ipynb\" target=\"_parent\"><img src=\"https://colab.research.google.com/assets/colab-badge.svg\" alt=\"Open In Colab\"/></a>"
      ]
    },
    {
      "cell_type": "code",
      "metadata": {
        "id": "AXrBK578HcTS",
        "colab_type": "code",
        "outputId": "c478ed43-9eb4-485d-8375-7e76f86676b9",
        "colab": {
          "base_uri": "https://localhost:8080/",
          "height": 87
        }
      },
      "source": [
        "# Your first pop quiz...\n",
        "#Q1-Write your code below and press Shif+enter to execute \n",
        "\n",
        "print(\"Hello World!!!\")\n",
        "\n",
        "\n",
        "#pop quiz #2\n",
        "#2-1 write your code below about \"what is the data type of the result 6/2?\"\n",
        "#2-1 write your code below about \"what is the data type of the result 6//2?\"\n",
        "a=type(6/2)\n",
        "b=type(6//2)\n",
        "print(a)\n",
        "print(b)\n",
        "Total_Min=1300 # the variable Toatl_Min is initialized with 1,300 , you don't need to \n",
        "Total_Hour=Total_Min/60\n",
        "#Pop_Quiz #3\n",
        "Total_Time_reprenting=\"Hour:\"+str(int(Total_Hour))+\"Min:\"+str(int(Total_Min%60))\n",
        "print(Total_Time_reprenting)\n",
        "#1300 mins to convert into Total_Hour and the remaining goes into Minutes\n",
        "#write a code to read the total min (e.g,1300) to the right representing the hour, and the minute separately."
      ],
      "execution_count": 0,
      "outputs": [
        {
          "output_type": "stream",
          "text": [
            "Hello World!!!\n",
            "<class 'float'>\n",
            "<class 'int'>\n",
            "Hour:21Min:40\n"
          ],
          "name": "stdout"
        }
      ]
    },
    {
      "cell_type": "code",
      "metadata": {
        "id": "5WrLdeQJHnAz",
        "colab_type": "code",
        "colab": {}
      },
      "source": [
        ""
      ],
      "execution_count": 0,
      "outputs": []
    }
  ]
}