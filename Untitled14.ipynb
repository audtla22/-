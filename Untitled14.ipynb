{
  "nbformat": 4,
  "nbformat_minor": 0,
  "metadata": {
    "colab": {
      "name": "Untitled14.ipynb",
      "provenance": [],
      "authorship_tag": "ABX9TyNiV0E/y05NtfCIa1h82q+L",
      "include_colab_link": true
    },
    "kernelspec": {
      "name": "python3",
      "display_name": "Python 3"
    }
  },
  "cells": [
    {
      "cell_type": "markdown",
      "metadata": {
        "id": "view-in-github",
        "colab_type": "text"
      },
      "source": [
        "<a href=\"https://colab.research.google.com/github/audtla22/-/blob/master/Untitled14.ipynb\" target=\"_parent\"><img src=\"https://colab.research.google.com/assets/colab-badge.svg\" alt=\"Open In Colab\"/></a>"
      ]
    },
    {
      "cell_type": "code",
      "metadata": {
        "id": "0fDTLqqiUYI_",
        "colab_type": "code",
        "colab": {
          "base_uri": "https://localhost:8080/",
          "height": 53
        },
        "outputId": "51aec015-7f5c-4654-fd12-1794e8e03a51"
      },
      "source": [
        "#Question is how we can access to a particular letter in the variable Name\" \n",
        "Name = \"Michael Jackson\"\n",
        "print(Name[0])\n",
        "print(Name[2:5])"
      ],
      "execution_count": 1,
      "outputs": [
        {
          "output_type": "stream",
          "text": [
            "M\n",
            "cha\n"
          ],
          "name": "stdout"
        }
      ]
    },
    {
      "cell_type": "code",
      "metadata": {
        "id": "muFrXCKrUhvN",
        "colab_type": "code",
        "colab": {
          "base_uri": "https://localhost:8080/",
          "height": 161
        },
        "outputId": "0b8dacf3-a740-4381-d93a-6802ba1e2a68"
      },
      "source": [
        "#This one is your Assignment #1 You play around how to use some built-in functions with strings..\n",
        "Name_lower_case = Name.lower()\n",
        "print(Name.count('m'))\n",
        "print(Name.count('a'))\n",
        "print(Name.lower())\n",
        "print(Name.split('a'))\n",
        "print(Name.upper())\n",
        "Name_lower_case\n",
        "len(Name)\n",
        "a=Name.replace('Michael', 'hosik')\n",
        "print(a)\n",
        "print(\"Micheal Jackson \\n is the best\") "
      ],
      "execution_count": 16,
      "outputs": [
        {
          "output_type": "stream",
          "text": [
            "0\n",
            "2\n",
            "michael jackson\n",
            "['Mich', 'el J', 'ckson']\n",
            "MICHAEL JACKSON\n",
            "hosik Jackson\n",
            "Micheal Jackson \n",
            " is the best\n"
          ],
          "name": "stdout"
        }
      ]
    },
    {
      "cell_type": "code",
      "metadata": {
        "id": "gjM9Xkp4VDkA",
        "colab_type": "code",
        "colab": {
          "base_uri": "https://localhost:8080/",
          "height": 316
        },
        "outputId": "7aec2a57-8182-4122-834e-2f4cee67f531"
      },
      "source": [
        "#Your Assginemnt #2 - Apply what you have learnt from String section, do repeat the many operations you played in the section. \n",
        "Name.replace('Michael', 'kingkingshow')\n",
        "print(Name[0])\n",
        "type(Name)\n",
        "len(Name)\n",
        "Name.upper()\n",
        "b=Name.format('c','3j')\n",
        "print(b)\n",
        "print(\"Micheal Jackson \\\\ is the worst\")\n",
        "print(\"Michael jackson \\t is the most important\")\n",
        "print(\"Michael jackson \\n is the most important\")\n",
        "genre=('0. Pop', '1. Rock', '2. Soul', '3. Hard Rock', '4. Soft rock', '5. R&B', '6. Progressive rock', '7. Disco')\n",
        "genre.index('5. R&B')\n",
        "genre.count('5. R&B')\n",
        "genre[5]\n"
      ],
      "execution_count": 44,
      "outputs": [
        {
          "output_type": "stream",
          "text": [
            "M\n",
            "Michael Jackson\n",
            "Micheal Jackson \\ is the worst\n",
            "Michael jackson \t is the most important\n",
            "Michael jackson \n",
            " is the most important\n"
          ],
          "name": "stdout"
        },
        {
          "output_type": "error",
          "ename": "ValueError",
          "evalue": "ignored",
          "traceback": [
            "\u001b[0;31m---------------------------------------------------------------------------\u001b[0m",
            "\u001b[0;31mValueError\u001b[0m                                Traceback (most recent call last)",
            "\u001b[0;32m<ipython-input-44-f1671c6de0d0>\u001b[0m in \u001b[0;36m<module>\u001b[0;34m()\u001b[0m\n\u001b[1;32m     13\u001b[0m \u001b[0mgenre\u001b[0m\u001b[0;34m.\u001b[0m\u001b[0mcount\u001b[0m\u001b[0;34m(\u001b[0m\u001b[0;34m'5. R&B'\u001b[0m\u001b[0;34m)\u001b[0m\u001b[0;34m\u001b[0m\u001b[0;34m\u001b[0m\u001b[0m\n\u001b[1;32m     14\u001b[0m \u001b[0mgenre\u001b[0m\u001b[0;34m[\u001b[0m\u001b[0;36m5\u001b[0m\u001b[0;34m]\u001b[0m\u001b[0;34m\u001b[0m\u001b[0;34m\u001b[0m\u001b[0m\n\u001b[0;32m---> 15\u001b[0;31m \u001b[0mgenre\u001b[0m\u001b[0;34m.\u001b[0m\u001b[0mindex\u001b[0m\u001b[0;34m(\u001b[0m\u001b[0;34m'&'\u001b[0m\u001b[0;34m)\u001b[0m\u001b[0;34m\u001b[0m\u001b[0;34m\u001b[0m\u001b[0m\n\u001b[0m",
            "\u001b[0;31mValueError\u001b[0m: tuple.index(x): x not in tuple"
          ]
        }
      ]
    },
    {
      "cell_type": "code",
      "metadata": {
        "id": "Qre2fQlgWvV9",
        "colab_type": "code",
        "colab": {}
      },
      "source": [
        ""
      ],
      "execution_count": 0,
      "outputs": []
    }
  ]
}